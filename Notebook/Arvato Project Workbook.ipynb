{
 "cells": [
  {
   "cell_type": "markdown",
   "metadata": {},
   "source": [
    "# Capstone Project: Create a Customer Segmentation Report for Arvato Financial Services\n",
    "\n",
    "In this project, you will analyze demographics data for customers of a mail-order sales company in Germany, comparing it against demographics information for the general population. You'll use unsupervised learning techniques to perform customer segmentation, identifying the parts of the population that best describe the core customer base of the company. Then, you'll apply what you've learned on a third dataset with demographics information for targets of a marketing campaign for the company, and use a model to predict which individuals are most likely to convert into becoming customers for the company. The data that you will use has been provided by our partners at Bertelsmann Arvato Analytics, and represents a real-life data science task.\n",
    "\n",
    "If you completed the first term of this program, you will be familiar with the first part of this project, from the unsupervised learning project. The versions of those two datasets used in this project will include many more features and has not been pre-cleaned. You are also free to choose whatever approach you'd like to analyzing the data rather than follow pre-determined steps. In your work on this project, make sure that you carefully document your steps and decisions, since your main deliverable for this project will be a blog post reporting your findings."
   ]
  },
  {
   "cell_type": "code",
   "execution_count": 1,
   "metadata": {},
   "outputs": [],
   "source": [
    "# import libraries here; add more as necessary\n",
    "import numpy as np\n",
    "import pandas as pd\n",
    "import matplotlib.pyplot as plt\n",
    "import seaborn as sns\n",
    "import ast\n",
    "import time\n",
    "from sklearn.impute import SimpleImputer\n",
    "from sklearn.preprocessing import StandardScaler\n",
    "from sklearn.decomposition import PCA\n",
    "from sklearn.cluster import KMeans\n",
    "from sklearn.utils import resample\n",
    "from sklearn.model_selection import GridSearchCV\n",
    "from sklearn.linear_model import LogisticRegression\n",
    "from sklearn.tree import DecisionTreeClassifier\n",
    "from sklearn.ensemble import RandomForestClassifier, AdaBoostClassifier, GradientBoostingClassifier\n",
    "from sklearn.naive_bayes import GaussianNB\n",
    "from sklearn.neural_network import MLPClassifier\n",
    "from sklearn.neighbors import KNeighborsClassifier\n",
    "from sklearn.svm import SVC\n",
    "from sklearn.gaussian_process import GaussianProcessClassifier\n",
    "from sklearn.gaussian_process.kernels import RBF\n",
    "from sklearn.metrics import roc_auc_score, fbeta_score, accuracy_score, precision_score, recall_score\n",
    "\n",
    "import warnings\n",
    "\n",
    "warnings.filterwarnings('ignore')\n",
    "\n",
    "# magic word for producing visualizations in notebook\n",
    "%matplotlib inline"
   ]
  },
  {
   "cell_type": "markdown",
   "metadata": {},
   "source": [
    "## Part 0: Get to Know the Data\n",
    "\n",
    "There are four data files associated with this project:\n",
    "\n",
    "- `Udacity_AZDIAS_052018.csv`: Demographics data for the general population of Germany; 891 211 persons (rows) x 366 features (columns).\n",
    "- `Udacity_CUSTOMERS_052018.csv`: Demographics data for customers of a mail-order company; 191 652 persons (rows) x 369 features (columns).\n",
    "- `Udacity_MAILOUT_052018_TRAIN.csv`: Demographics data for individuals who were targets of a marketing campaign; 42 982 persons (rows) x 367 (columns).\n",
    "- `Udacity_MAILOUT_052018_TEST.csv`: Demographics data for individuals who were targets of a marketing campaign; 42 833 persons (rows) x 366 (columns).\n",
    "\n",
    "Each row of the demographics files represents a single person, but also includes information outside of individuals, including information about their household, building, and neighborhood. Use the information from the first two files to figure out how customers (\"CUSTOMERS\") are similar to or differ from the general population at large (\"AZDIAS\"), then use your analysis to make predictions on the other two files (\"MAILOUT\"), predicting which recipients are most likely to become a customer for the mail-order company.\n",
    "\n",
    "The \"CUSTOMERS\" file contains three extra columns ('CUSTOMER_GROUP', 'ONLINE_PURCHASE', and 'PRODUCT_GROUP'), which provide broad information about the customers depicted in the file. The original \"MAILOUT\" file included one additional column, \"RESPONSE\", which indicated whether or not each recipient became a customer of the company. For the \"TRAIN\" subset, this column has been retained, but in the \"TEST\" subset it has been removed; it is against that withheld column that your final predictions will be assessed in the Kaggle competition.\n",
    "\n",
    "Otherwise, all of the remaining columns are the same between the three data files. For more information about the columns depicted in the files, you can refer to two Excel spreadsheets provided in the workspace. [One of them](./DIAS Information Levels - Attributes 2017.xlsx) is a top-level list of attributes and descriptions, organized by informational category. [The other](./DIAS Attributes - Values 2017.xlsx) is a detailed mapping of data values for each feature in alphabetical order.\n",
    "\n",
    "In the below cell, we've provided some initial code to load in the first two datasets. Note for all of the `.csv` data files in this project that they're semicolon (`;`) delimited, so an additional argument in the [`read_csv()`](https://pandas.pydata.org/pandas-docs/stable/generated/pandas.read_csv.html) call has been included to read in the data properly. Also, considering the size of the datasets, it may take some time for them to load completely.\n",
    "\n",
    "You'll notice when the data is loaded in that a warning message will immediately pop up. Before you really start digging into the modeling and analysis, you're going to need to perform some cleaning. Take some time to browse the structure of the data and look over the informational spreadsheets to understand the data values. Make some decisions on which features to keep, which features to drop, and if any revisions need to be made on data formats. It'll be a good idea to create a function with pre-processing steps, since you'll need to clean all of the datasets before you work with them."
   ]
  },
  {
   "cell_type": "code",
   "execution_count": 2,
   "metadata": {},
   "outputs": [],
   "source": [
    "# load in the data\n",
    "azdias = pd.read_csv('azdias.csv', index_col=0)\n",
    "customers = pd.read_csv('customers.csv', index_col=0)"
   ]
  },
  {
   "cell_type": "markdown",
   "metadata": {},
   "source": [
    "### AZDIAS Dataset"
   ]
  },
  {
   "cell_type": "code",
   "execution_count": 3,
   "metadata": {},
   "outputs": [
    {
     "data": {
      "text/html": [
       "<div>\n",
       "<style scoped>\n",
       "    .dataframe tbody tr th:only-of-type {\n",
       "        vertical-align: middle;\n",
       "    }\n",
       "\n",
       "    .dataframe tbody tr th {\n",
       "        vertical-align: top;\n",
       "    }\n",
       "\n",
       "    .dataframe thead th {\n",
       "        text-align: right;\n",
       "    }\n",
       "</style>\n",
       "<table border=\"1\" class=\"dataframe\">\n",
       "  <thead>\n",
       "    <tr style=\"text-align: right;\">\n",
       "      <th></th>\n",
       "      <th>LNR</th>\n",
       "      <th>AGER_TYP</th>\n",
       "      <th>AKT_DAT_KL</th>\n",
       "      <th>ALTER_HH</th>\n",
       "      <th>ALTER_KIND1</th>\n",
       "      <th>ALTER_KIND2</th>\n",
       "      <th>ALTER_KIND3</th>\n",
       "      <th>ALTER_KIND4</th>\n",
       "      <th>ALTERSKATEGORIE_FEIN</th>\n",
       "      <th>ANZ_HAUSHALTE_AKTIV</th>\n",
       "      <th>...</th>\n",
       "      <th>VHN</th>\n",
       "      <th>VK_DHT4A</th>\n",
       "      <th>VK_DISTANZ</th>\n",
       "      <th>VK_ZG11</th>\n",
       "      <th>W_KEIT_KIND_HH</th>\n",
       "      <th>WOHNDAUER_2008</th>\n",
       "      <th>WOHNLAGE</th>\n",
       "      <th>ZABEOTYP</th>\n",
       "      <th>ANREDE_KZ</th>\n",
       "      <th>ALTERSKATEGORIE_GROB</th>\n",
       "    </tr>\n",
       "  </thead>\n",
       "  <tbody>\n",
       "    <tr>\n",
       "      <th>0</th>\n",
       "      <td>910215</td>\n",
       "      <td>-1</td>\n",
       "      <td>NaN</td>\n",
       "      <td>NaN</td>\n",
       "      <td>NaN</td>\n",
       "      <td>NaN</td>\n",
       "      <td>NaN</td>\n",
       "      <td>NaN</td>\n",
       "      <td>NaN</td>\n",
       "      <td>NaN</td>\n",
       "      <td>...</td>\n",
       "      <td>NaN</td>\n",
       "      <td>NaN</td>\n",
       "      <td>NaN</td>\n",
       "      <td>NaN</td>\n",
       "      <td>NaN</td>\n",
       "      <td>NaN</td>\n",
       "      <td>NaN</td>\n",
       "      <td>3</td>\n",
       "      <td>1</td>\n",
       "      <td>2</td>\n",
       "    </tr>\n",
       "    <tr>\n",
       "      <th>1</th>\n",
       "      <td>910220</td>\n",
       "      <td>-1</td>\n",
       "      <td>9.0</td>\n",
       "      <td>0.0</td>\n",
       "      <td>NaN</td>\n",
       "      <td>NaN</td>\n",
       "      <td>NaN</td>\n",
       "      <td>NaN</td>\n",
       "      <td>21.0</td>\n",
       "      <td>11.0</td>\n",
       "      <td>...</td>\n",
       "      <td>4.0</td>\n",
       "      <td>8.0</td>\n",
       "      <td>11.0</td>\n",
       "      <td>10.0</td>\n",
       "      <td>3.0</td>\n",
       "      <td>9.0</td>\n",
       "      <td>4.0</td>\n",
       "      <td>5</td>\n",
       "      <td>2</td>\n",
       "      <td>1</td>\n",
       "    </tr>\n",
       "    <tr>\n",
       "      <th>2</th>\n",
       "      <td>910225</td>\n",
       "      <td>-1</td>\n",
       "      <td>9.0</td>\n",
       "      <td>17.0</td>\n",
       "      <td>NaN</td>\n",
       "      <td>NaN</td>\n",
       "      <td>NaN</td>\n",
       "      <td>NaN</td>\n",
       "      <td>17.0</td>\n",
       "      <td>10.0</td>\n",
       "      <td>...</td>\n",
       "      <td>2.0</td>\n",
       "      <td>9.0</td>\n",
       "      <td>9.0</td>\n",
       "      <td>6.0</td>\n",
       "      <td>3.0</td>\n",
       "      <td>9.0</td>\n",
       "      <td>2.0</td>\n",
       "      <td>5</td>\n",
       "      <td>2</td>\n",
       "      <td>3</td>\n",
       "    </tr>\n",
       "    <tr>\n",
       "      <th>3</th>\n",
       "      <td>910226</td>\n",
       "      <td>2</td>\n",
       "      <td>1.0</td>\n",
       "      <td>13.0</td>\n",
       "      <td>NaN</td>\n",
       "      <td>NaN</td>\n",
       "      <td>NaN</td>\n",
       "      <td>NaN</td>\n",
       "      <td>13.0</td>\n",
       "      <td>1.0</td>\n",
       "      <td>...</td>\n",
       "      <td>0.0</td>\n",
       "      <td>7.0</td>\n",
       "      <td>10.0</td>\n",
       "      <td>11.0</td>\n",
       "      <td>NaN</td>\n",
       "      <td>9.0</td>\n",
       "      <td>7.0</td>\n",
       "      <td>3</td>\n",
       "      <td>2</td>\n",
       "      <td>4</td>\n",
       "    </tr>\n",
       "    <tr>\n",
       "      <th>4</th>\n",
       "      <td>910241</td>\n",
       "      <td>-1</td>\n",
       "      <td>1.0</td>\n",
       "      <td>20.0</td>\n",
       "      <td>NaN</td>\n",
       "      <td>NaN</td>\n",
       "      <td>NaN</td>\n",
       "      <td>NaN</td>\n",
       "      <td>14.0</td>\n",
       "      <td>3.0</td>\n",
       "      <td>...</td>\n",
       "      <td>2.0</td>\n",
       "      <td>3.0</td>\n",
       "      <td>5.0</td>\n",
       "      <td>4.0</td>\n",
       "      <td>2.0</td>\n",
       "      <td>9.0</td>\n",
       "      <td>3.0</td>\n",
       "      <td>4</td>\n",
       "      <td>1</td>\n",
       "      <td>3</td>\n",
       "    </tr>\n",
       "  </tbody>\n",
       "</table>\n",
       "<p>5 rows × 366 columns</p>\n",
       "</div>"
      ],
      "text/plain": [
       "      LNR  AGER_TYP  AKT_DAT_KL  ALTER_HH  ALTER_KIND1  ALTER_KIND2  \\\n",
       "0  910215        -1         NaN       NaN          NaN          NaN   \n",
       "1  910220        -1         9.0       0.0          NaN          NaN   \n",
       "2  910225        -1         9.0      17.0          NaN          NaN   \n",
       "3  910226         2         1.0      13.0          NaN          NaN   \n",
       "4  910241        -1         1.0      20.0          NaN          NaN   \n",
       "\n",
       "   ALTER_KIND3  ALTER_KIND4  ALTERSKATEGORIE_FEIN  ANZ_HAUSHALTE_AKTIV  ...  \\\n",
       "0          NaN          NaN                   NaN                  NaN  ...   \n",
       "1          NaN          NaN                  21.0                 11.0  ...   \n",
       "2          NaN          NaN                  17.0                 10.0  ...   \n",
       "3          NaN          NaN                  13.0                  1.0  ...   \n",
       "4          NaN          NaN                  14.0                  3.0  ...   \n",
       "\n",
       "   VHN  VK_DHT4A  VK_DISTANZ  VK_ZG11  W_KEIT_KIND_HH  WOHNDAUER_2008  \\\n",
       "0  NaN       NaN         NaN      NaN             NaN             NaN   \n",
       "1  4.0       8.0        11.0     10.0             3.0             9.0   \n",
       "2  2.0       9.0         9.0      6.0             3.0             9.0   \n",
       "3  0.0       7.0        10.0     11.0             NaN             9.0   \n",
       "4  2.0       3.0         5.0      4.0             2.0             9.0   \n",
       "\n",
       "   WOHNLAGE ZABEOTYP ANREDE_KZ ALTERSKATEGORIE_GROB  \n",
       "0       NaN        3         1                    2  \n",
       "1       4.0        5         2                    1  \n",
       "2       2.0        5         2                    3  \n",
       "3       7.0        3         2                    4  \n",
       "4       3.0        4         1                    3  \n",
       "\n",
       "[5 rows x 366 columns]"
      ]
     },
     "execution_count": 3,
     "metadata": {},
     "output_type": "execute_result"
    }
   ],
   "source": [
    "azdias.head()"
   ]
  },
  {
   "cell_type": "code",
   "execution_count": 4,
   "metadata": {},
   "outputs": [
    {
     "name": "stdout",
     "output_type": "stream",
     "text": [
      "<class 'pandas.core.frame.DataFrame'>\n",
      "Int64Index: 891221 entries, 0 to 891220\n",
      "Columns: 366 entries, LNR to ALTERSKATEGORIE_GROB\n",
      "dtypes: float64(267), int64(93), object(6)\n",
      "memory usage: 2.4+ GB\n"
     ]
    }
   ],
   "source": [
    "azdias.info()"
   ]
  },
  {
   "cell_type": "code",
   "execution_count": 5,
   "metadata": {},
   "outputs": [
    {
     "data": {
      "text/plain": [
       "(891221, 366)"
      ]
     },
     "execution_count": 5,
     "metadata": {},
     "output_type": "execute_result"
    }
   ],
   "source": [
    "azdias.shape"
   ]
  },
  {
   "cell_type": "markdown",
   "metadata": {},
   "source": [
    "### CUSTOMERS Dataset"
   ]
  },
  {
   "cell_type": "code",
   "execution_count": 6,
   "metadata": {},
   "outputs": [
    {
     "data": {
      "text/html": [
       "<div>\n",
       "<style scoped>\n",
       "    .dataframe tbody tr th:only-of-type {\n",
       "        vertical-align: middle;\n",
       "    }\n",
       "\n",
       "    .dataframe tbody tr th {\n",
       "        vertical-align: top;\n",
       "    }\n",
       "\n",
       "    .dataframe thead th {\n",
       "        text-align: right;\n",
       "    }\n",
       "</style>\n",
       "<table border=\"1\" class=\"dataframe\">\n",
       "  <thead>\n",
       "    <tr style=\"text-align: right;\">\n",
       "      <th></th>\n",
       "      <th>LNR</th>\n",
       "      <th>AGER_TYP</th>\n",
       "      <th>AKT_DAT_KL</th>\n",
       "      <th>ALTER_HH</th>\n",
       "      <th>ALTER_KIND1</th>\n",
       "      <th>ALTER_KIND2</th>\n",
       "      <th>ALTER_KIND3</th>\n",
       "      <th>ALTER_KIND4</th>\n",
       "      <th>ALTERSKATEGORIE_FEIN</th>\n",
       "      <th>ANZ_HAUSHALTE_AKTIV</th>\n",
       "      <th>...</th>\n",
       "      <th>VK_ZG11</th>\n",
       "      <th>W_KEIT_KIND_HH</th>\n",
       "      <th>WOHNDAUER_2008</th>\n",
       "      <th>WOHNLAGE</th>\n",
       "      <th>ZABEOTYP</th>\n",
       "      <th>PRODUCT_GROUP</th>\n",
       "      <th>CUSTOMER_GROUP</th>\n",
       "      <th>ONLINE_PURCHASE</th>\n",
       "      <th>ANREDE_KZ</th>\n",
       "      <th>ALTERSKATEGORIE_GROB</th>\n",
       "    </tr>\n",
       "  </thead>\n",
       "  <tbody>\n",
       "    <tr>\n",
       "      <th>0</th>\n",
       "      <td>9626</td>\n",
       "      <td>2</td>\n",
       "      <td>1.0</td>\n",
       "      <td>10.0</td>\n",
       "      <td>NaN</td>\n",
       "      <td>NaN</td>\n",
       "      <td>NaN</td>\n",
       "      <td>NaN</td>\n",
       "      <td>10.0</td>\n",
       "      <td>1.0</td>\n",
       "      <td>...</td>\n",
       "      <td>2.0</td>\n",
       "      <td>6.0</td>\n",
       "      <td>9.0</td>\n",
       "      <td>7.0</td>\n",
       "      <td>3</td>\n",
       "      <td>COSMETIC_AND_FOOD</td>\n",
       "      <td>MULTI_BUYER</td>\n",
       "      <td>0</td>\n",
       "      <td>1</td>\n",
       "      <td>4</td>\n",
       "    </tr>\n",
       "    <tr>\n",
       "      <th>1</th>\n",
       "      <td>9628</td>\n",
       "      <td>-1</td>\n",
       "      <td>9.0</td>\n",
       "      <td>11.0</td>\n",
       "      <td>NaN</td>\n",
       "      <td>NaN</td>\n",
       "      <td>NaN</td>\n",
       "      <td>NaN</td>\n",
       "      <td>NaN</td>\n",
       "      <td>NaN</td>\n",
       "      <td>...</td>\n",
       "      <td>3.0</td>\n",
       "      <td>0.0</td>\n",
       "      <td>9.0</td>\n",
       "      <td>NaN</td>\n",
       "      <td>3</td>\n",
       "      <td>FOOD</td>\n",
       "      <td>SINGLE_BUYER</td>\n",
       "      <td>0</td>\n",
       "      <td>1</td>\n",
       "      <td>4</td>\n",
       "    </tr>\n",
       "    <tr>\n",
       "      <th>2</th>\n",
       "      <td>143872</td>\n",
       "      <td>-1</td>\n",
       "      <td>1.0</td>\n",
       "      <td>6.0</td>\n",
       "      <td>NaN</td>\n",
       "      <td>NaN</td>\n",
       "      <td>NaN</td>\n",
       "      <td>NaN</td>\n",
       "      <td>0.0</td>\n",
       "      <td>1.0</td>\n",
       "      <td>...</td>\n",
       "      <td>11.0</td>\n",
       "      <td>6.0</td>\n",
       "      <td>9.0</td>\n",
       "      <td>2.0</td>\n",
       "      <td>3</td>\n",
       "      <td>COSMETIC_AND_FOOD</td>\n",
       "      <td>MULTI_BUYER</td>\n",
       "      <td>0</td>\n",
       "      <td>2</td>\n",
       "      <td>4</td>\n",
       "    </tr>\n",
       "    <tr>\n",
       "      <th>3</th>\n",
       "      <td>143873</td>\n",
       "      <td>1</td>\n",
       "      <td>1.0</td>\n",
       "      <td>8.0</td>\n",
       "      <td>NaN</td>\n",
       "      <td>NaN</td>\n",
       "      <td>NaN</td>\n",
       "      <td>NaN</td>\n",
       "      <td>8.0</td>\n",
       "      <td>0.0</td>\n",
       "      <td>...</td>\n",
       "      <td>2.0</td>\n",
       "      <td>NaN</td>\n",
       "      <td>9.0</td>\n",
       "      <td>7.0</td>\n",
       "      <td>1</td>\n",
       "      <td>COSMETIC</td>\n",
       "      <td>MULTI_BUYER</td>\n",
       "      <td>0</td>\n",
       "      <td>1</td>\n",
       "      <td>4</td>\n",
       "    </tr>\n",
       "    <tr>\n",
       "      <th>4</th>\n",
       "      <td>143874</td>\n",
       "      <td>-1</td>\n",
       "      <td>1.0</td>\n",
       "      <td>20.0</td>\n",
       "      <td>NaN</td>\n",
       "      <td>NaN</td>\n",
       "      <td>NaN</td>\n",
       "      <td>NaN</td>\n",
       "      <td>14.0</td>\n",
       "      <td>7.0</td>\n",
       "      <td>...</td>\n",
       "      <td>4.0</td>\n",
       "      <td>2.0</td>\n",
       "      <td>9.0</td>\n",
       "      <td>3.0</td>\n",
       "      <td>1</td>\n",
       "      <td>FOOD</td>\n",
       "      <td>MULTI_BUYER</td>\n",
       "      <td>0</td>\n",
       "      <td>1</td>\n",
       "      <td>3</td>\n",
       "    </tr>\n",
       "  </tbody>\n",
       "</table>\n",
       "<p>5 rows × 369 columns</p>\n",
       "</div>"
      ],
      "text/plain": [
       "      LNR  AGER_TYP  AKT_DAT_KL  ALTER_HH  ALTER_KIND1  ALTER_KIND2  \\\n",
       "0    9626         2         1.0      10.0          NaN          NaN   \n",
       "1    9628        -1         9.0      11.0          NaN          NaN   \n",
       "2  143872        -1         1.0       6.0          NaN          NaN   \n",
       "3  143873         1         1.0       8.0          NaN          NaN   \n",
       "4  143874        -1         1.0      20.0          NaN          NaN   \n",
       "\n",
       "   ALTER_KIND3  ALTER_KIND4  ALTERSKATEGORIE_FEIN  ANZ_HAUSHALTE_AKTIV  ...  \\\n",
       "0          NaN          NaN                  10.0                  1.0  ...   \n",
       "1          NaN          NaN                   NaN                  NaN  ...   \n",
       "2          NaN          NaN                   0.0                  1.0  ...   \n",
       "3          NaN          NaN                   8.0                  0.0  ...   \n",
       "4          NaN          NaN                  14.0                  7.0  ...   \n",
       "\n",
       "   VK_ZG11  W_KEIT_KIND_HH  WOHNDAUER_2008  WOHNLAGE  ZABEOTYP  \\\n",
       "0      2.0             6.0             9.0       7.0         3   \n",
       "1      3.0             0.0             9.0       NaN         3   \n",
       "2     11.0             6.0             9.0       2.0         3   \n",
       "3      2.0             NaN             9.0       7.0         1   \n",
       "4      4.0             2.0             9.0       3.0         1   \n",
       "\n",
       "       PRODUCT_GROUP  CUSTOMER_GROUP ONLINE_PURCHASE ANREDE_KZ  \\\n",
       "0  COSMETIC_AND_FOOD     MULTI_BUYER               0         1   \n",
       "1               FOOD    SINGLE_BUYER               0         1   \n",
       "2  COSMETIC_AND_FOOD     MULTI_BUYER               0         2   \n",
       "3           COSMETIC     MULTI_BUYER               0         1   \n",
       "4               FOOD     MULTI_BUYER               0         1   \n",
       "\n",
       "  ALTERSKATEGORIE_GROB  \n",
       "0                    4  \n",
       "1                    4  \n",
       "2                    4  \n",
       "3                    4  \n",
       "4                    3  \n",
       "\n",
       "[5 rows x 369 columns]"
      ]
     },
     "execution_count": 6,
     "metadata": {},
     "output_type": "execute_result"
    }
   ],
   "source": [
    "customers.head()"
   ]
  },
  {
   "cell_type": "code",
   "execution_count": 7,
   "metadata": {},
   "outputs": [
    {
     "name": "stdout",
     "output_type": "stream",
     "text": [
      "<class 'pandas.core.frame.DataFrame'>\n",
      "Int64Index: 191652 entries, 0 to 191651\n",
      "Columns: 369 entries, LNR to ALTERSKATEGORIE_GROB\n",
      "dtypes: float64(267), int64(94), object(8)\n",
      "memory usage: 541.0+ MB\n"
     ]
    }
   ],
   "source": [
    "customers.info()"
   ]
  },
  {
   "cell_type": "code",
   "execution_count": 8,
   "metadata": {},
   "outputs": [
    {
     "data": {
      "text/plain": [
       "(191652, 369)"
      ]
     },
     "execution_count": 8,
     "metadata": {},
     "output_type": "execute_result"
    }
   ],
   "source": [
    "customers.shape"
   ]
  },
  {
   "cell_type": "markdown",
   "metadata": {},
   "source": [
    "### Preprocess Data"
   ]
  },
  {
   "cell_type": "markdown",
   "metadata": {},
   "source": [
    "I will only use variables available in the Excel file (DIAS Attributes - Values 2017.xlsx). The customers and azdias dataset each has 366 and 369 columns (including the identifier column) and we will drop columns that are not in the Excel file."
   ]
  },
  {
   "cell_type": "code",
   "execution_count": 9,
   "metadata": {},
   "outputs": [],
   "source": [
    "attributes = pd.read_csv('attributes metadata v2.csv')"
   ]
  },
  {
   "cell_type": "code",
   "execution_count": 10,
   "metadata": {},
   "outputs": [
    {
     "data": {
      "text/html": [
       "<div>\n",
       "<style scoped>\n",
       "    .dataframe tbody tr th:only-of-type {\n",
       "        vertical-align: middle;\n",
       "    }\n",
       "\n",
       "    .dataframe tbody tr th {\n",
       "        vertical-align: top;\n",
       "    }\n",
       "\n",
       "    .dataframe thead th {\n",
       "        text-align: right;\n",
       "    }\n",
       "</style>\n",
       "<table border=\"1\" class=\"dataframe\">\n",
       "  <thead>\n",
       "    <tr style=\"text-align: right;\">\n",
       "      <th></th>\n",
       "      <th>Attributes</th>\n",
       "      <th>Variable Type</th>\n",
       "      <th>Missing Values</th>\n",
       "    </tr>\n",
       "  </thead>\n",
       "  <tbody>\n",
       "    <tr>\n",
       "      <th>0</th>\n",
       "      <td>AGER_TYP</td>\n",
       "      <td>categorical</td>\n",
       "      <td>[-1,0]</td>\n",
       "    </tr>\n",
       "    <tr>\n",
       "      <th>1</th>\n",
       "      <td>ALTERSKATEGORIE_FEIN</td>\n",
       "      <td>ordinal</td>\n",
       "      <td>[-1,0.9]</td>\n",
       "    </tr>\n",
       "    <tr>\n",
       "      <th>2</th>\n",
       "      <td>ALTERSKATEGORIE_GROB</td>\n",
       "      <td>ordinal</td>\n",
       "      <td>[-1,0,9]</td>\n",
       "    </tr>\n",
       "    <tr>\n",
       "      <th>3</th>\n",
       "      <td>ALTER_HH</td>\n",
       "      <td>ordinal</td>\n",
       "      <td>[0]</td>\n",
       "    </tr>\n",
       "    <tr>\n",
       "      <th>4</th>\n",
       "      <td>ANREDE_KZ</td>\n",
       "      <td>categorical</td>\n",
       "      <td>[-1,0]</td>\n",
       "    </tr>\n",
       "  </tbody>\n",
       "</table>\n",
       "</div>"
      ],
      "text/plain": [
       "             Attributes Variable Type Missing Values\n",
       "0              AGER_TYP   categorical         [-1,0]\n",
       "1  ALTERSKATEGORIE_FEIN       ordinal       [-1,0.9]\n",
       "2  ALTERSKATEGORIE_GROB       ordinal       [-1,0,9]\n",
       "3              ALTER_HH       ordinal            [0]\n",
       "4             ANREDE_KZ   categorical         [-1,0]"
      ]
     },
     "execution_count": 10,
     "metadata": {},
     "output_type": "execute_result"
    }
   ],
   "source": [
    "attributes.head()"
   ]
  },
  {
   "cell_type": "code",
   "execution_count": 11,
   "metadata": {},
   "outputs": [
    {
     "data": {
      "text/plain": [
       "(334, 3)"
      ]
     },
     "execution_count": 11,
     "metadata": {},
     "output_type": "execute_result"
    }
   ],
   "source": [
    "attributes.shape"
   ]
  },
  {
   "cell_type": "code",
   "execution_count": 12,
   "metadata": {},
   "outputs": [
    {
     "data": {
      "text/plain": [
       "['AGER_TYP',\n",
       " 'ALTERSKATEGORIE_FEIN',\n",
       " 'ALTERSKATEGORIE_GROB',\n",
       " 'ALTER_HH',\n",
       " 'ANREDE_KZ',\n",
       " 'ANZ_HAUSHALTE_AKTIV',\n",
       " 'ANZ_HH_TITEL',\n",
       " 'ANZ_KINDER',\n",
       " 'ANZ_PERSONEN',\n",
       " 'ANZ_STATISTISCHE_HAUSHALTE',\n",
       " 'ANZ_TITEL',\n",
       " 'ARBEIT',\n",
       " 'BALLRAUM',\n",
       " 'CAMEO_DEUG_2015',\n",
       " 'CAMEO_DEU_2015',\n",
       " 'CAMEO_INTL_2015',\n",
       " 'CJT_GESAMTTYP',\n",
       " 'D19_BANKEN_ANZ_12',\n",
       " 'D19_BANKEN_ANZ_24',\n",
       " 'D19_BANKEN_DATUM',\n",
       " 'D19_BANKEN_DIREKT',\n",
       " 'D19_BANKEN_GROSS',\n",
       " 'D19_BANKEN_LOKAL',\n",
       " 'D19_BANKEN_OFFLINE_DATUM',\n",
       " 'D19_BANKEN_ONLINE_DATUM',\n",
       " 'D19_BANKEN_ONLINE_QUOTE_12',\n",
       " 'D19_BANKEN_REST',\n",
       " 'D19_BEKLEIDUNG_GEH',\n",
       " 'D19_BEKLEIDUNG_REST',\n",
       " 'D19_BILDUNG',\n",
       " 'D19_BIO_OEKO',\n",
       " 'D19_BUCH_CD',\n",
       " 'D19_DIGIT_SERV',\n",
       " 'D19_DROGERIEARTIKEL',\n",
       " 'D19_ENERGIE',\n",
       " 'D19_FREIZEIT',\n",
       " 'D19_GARTEN',\n",
       " 'D19_GESAMT_ANZ_12',\n",
       " 'D19_GESAMT_ANZ_24',\n",
       " 'D19_GESAMT_DATUM',\n",
       " 'D19_GESAMT_OFFLINE_DATUM',\n",
       " 'D19_GESAMT_ONLINE_DATUM',\n",
       " 'D19_GESAMT_ONLINE_QUOTE_12',\n",
       " 'D19_HANDWERK',\n",
       " 'D19_HAUS_DEKO',\n",
       " 'D19_KINDERARTIKEL',\n",
       " 'D19_KONSUMTYP',\n",
       " 'D19_KOSMETIK',\n",
       " 'D19_LEBENSMITTEL',\n",
       " 'D19_LOTTO',\n",
       " 'D19_NAHRUNGSERGAENZUNG',\n",
       " 'D19_RATGEBER',\n",
       " 'D19_REISEN',\n",
       " 'D19_SAMMELARTIKEL',\n",
       " 'D19_SCHUHE',\n",
       " 'D19_SONSTIGE',\n",
       " 'D19_SOZIALES',\n",
       " 'D19_TECHNIK',\n",
       " 'D19_TELKO_ANZ_12',\n",
       " 'D19_TELKO_ANZ_24',\n",
       " 'D19_TELKO_DATUM',\n",
       " 'D19_TELKO_MOBILE',\n",
       " 'D19_TELKO_OFFLINE_DATUM',\n",
       " 'D19_TELKO_ONLINE_DATUM',\n",
       " 'D19_TELKO_ONLINE_QUOTE_12',\n",
       " 'D19_TELKO_REST',\n",
       " 'D19_TIERARTIKEL',\n",
       " 'D19_VERSAND_ANZ_12',\n",
       " 'D19_VERSAND_ANZ_24',\n",
       " 'D19_VERSAND_DATUM',\n",
       " 'D19_VERSAND_OFFLINE_DATUM',\n",
       " 'D19_VERSAND_ONLINE_DATUM',\n",
       " 'D19_VERSAND_ONLINE_QUOTE_12',\n",
       " 'D19_VERSICHERUNGEN',\n",
       " 'D19_VERSAND_REST',\n",
       " 'D19_VERSI_ANZ_12',\n",
       " 'D19_VERSI_ANZ_24',\n",
       " 'D19_VERSI_DATUM',\n",
       " 'D19_VERSI_OFFLINE_DATUM',\n",
       " 'D19_VERSI_ONLINE_DATUM',\n",
       " 'D19_VERSI_ONLINE_QUOTE_12',\n",
       " 'D19_VOLLSORTIMENT',\n",
       " 'D19_WEIN_FEINKOST',\n",
       " 'DSL_FLAG',\n",
       " 'EINGEZOGENAM_HH_JAHR',\n",
       " 'EWDICHTE',\n",
       " 'FINANZTYP',\n",
       " 'FINANZ_ANLEGER',\n",
       " 'FINANZ_HAUSBAUER',\n",
       " 'FINANZ_MINIMALIST',\n",
       " 'FINANZ_SPARER',\n",
       " 'FINANZ_UNAUFFAELLIGER',\n",
       " 'FINANZ_VORSORGER',\n",
       " 'GEBAEUDETYP',\n",
       " 'GEBAEUDETYP_RASTER',\n",
       " 'GEBURTSJAHR',\n",
       " 'GFK_URLAUBERTYP',\n",
       " 'GREEN_AVANTGARDE',\n",
       " 'HEALTH_TYP',\n",
       " 'HH_DELTA_FLAG',\n",
       " 'HH_EINKOMMEN_SCORE',\n",
       " 'INNENSTADT',\n",
       " 'KBA05_ALTER1',\n",
       " 'KBA05_ALTER2',\n",
       " 'KBA05_ALTER3',\n",
       " 'KBA05_ALTER4',\n",
       " 'KBA05_ANHANG',\n",
       " 'KBA05_ANTG1',\n",
       " 'KBA05_ANTG2',\n",
       " 'KBA05_ANTG3',\n",
       " 'KBA05_ANTG4',\n",
       " 'KBA05_AUTOQUOT',\n",
       " 'KBA05_BAUMAX',\n",
       " 'KBA05_CCM1',\n",
       " 'KBA05_CCM2',\n",
       " 'KBA05_CCM3',\n",
       " 'KBA05_CCM4',\n",
       " 'KBA05_DIESEL',\n",
       " 'KBA05_FRAU',\n",
       " 'KBA05_GBZ',\n",
       " 'KBA05_HERST1',\n",
       " 'KBA05_HERST2',\n",
       " 'KBA05_HERST3',\n",
       " 'KBA05_HERST4',\n",
       " 'KBA05_HERST5',\n",
       " 'KBA05_HERSTTEMP',\n",
       " 'KBA05_KRSAQUOT',\n",
       " 'KBA05_KRSHERST1',\n",
       " 'KBA05_KRSHERST2',\n",
       " 'KBA05_KRSHERST3',\n",
       " 'KBA05_KRSKLEIN',\n",
       " 'KBA05_KRSOBER',\n",
       " 'KBA05_KRSVAN',\n",
       " 'KBA05_KRSZUL',\n",
       " 'KBA05_KW1',\n",
       " 'KBA05_KW2',\n",
       " 'KBA05_KW3',\n",
       " 'KBA05_MAXAH',\n",
       " 'KBA05_MAXBJ',\n",
       " 'KBA05_MAXHERST',\n",
       " 'KBA05_MAXSEG',\n",
       " 'KBA05_MAXVORB',\n",
       " 'KBA05_MOD1',\n",
       " 'KBA05_MOD2',\n",
       " 'KBA05_MOD3',\n",
       " 'KBA05_MOD4',\n",
       " 'KBA05_MOD8',\n",
       " 'KBA05_MODTEMP',\n",
       " 'KBA05_MOTOR',\n",
       " 'KBA05_MOTRAD',\n",
       " 'KBA05_SEG1',\n",
       " 'KBA05_SEG10',\n",
       " 'KBA05_SEG2',\n",
       " 'KBA05_SEG3',\n",
       " 'KBA05_SEG4',\n",
       " 'KBA05_SEG5',\n",
       " 'KBA05_SEG6',\n",
       " 'KBA05_SEG7',\n",
       " 'KBA05_SEG8',\n",
       " 'KBA05_SEG9',\n",
       " 'KBA05_VORB0',\n",
       " 'KBA05_VORB1',\n",
       " 'KBA05_VORB2',\n",
       " 'KBA05_ZUL1',\n",
       " 'KBA05_ZUL2',\n",
       " 'KBA05_ZUL3',\n",
       " 'KBA05_ZUL4',\n",
       " 'KBA13_ALTERHALTER_30',\n",
       " 'KBA13_ALTERHALTER_45',\n",
       " 'KBA13_ALTERHALTER_60',\n",
       " 'KBA13_ALTERHALTER_61',\n",
       " 'KBA13_ANTG1',\n",
       " 'KBA13_ANTG2',\n",
       " 'KBA13_ANTG3',\n",
       " 'KBA13_ANTG4',\n",
       " 'KBA13_ANZAHL_PKW',\n",
       " 'KBA13_AUDI',\n",
       " 'KBA13_AUTOQUOTE',\n",
       " 'KBA13_BAUMAX',\n",
       " 'KBA13_BJ_1999',\n",
       " 'KBA13_BJ_2000',\n",
       " 'KBA13_BJ_2004',\n",
       " 'KBA13_BJ_2006',\n",
       " 'KBA13_BJ_2008',\n",
       " 'KBA13_BJ_2009',\n",
       " 'KBA13_BMW',\n",
       " 'KBA13_CCM_0_1400',\n",
       " 'KBA13_CCM_1000',\n",
       " 'KBA13_CCM_1200',\n",
       " 'KBA13_CCM_1400',\n",
       " 'KBA13_CCM_1401_2500',\n",
       " 'KBA13_CCM_1500',\n",
       " 'KBA13_CCM_1600',\n",
       " 'KBA13_CCM_1800',\n",
       " 'KBA13_CCM_2000',\n",
       " 'KBA13_CCM_2500',\n",
       " 'KBA13_CCM_2501',\n",
       " 'KBA13_CCM_3000',\n",
       " 'KBA13_CCM_3001',\n",
       " 'KBA13_FAB_ASIEN',\n",
       " 'KBA13_FAB_SONSTIGE',\n",
       " 'KBA13_FIAT',\n",
       " 'KBA13_FORD',\n",
       " 'KBA13_GBZ',\n",
       " 'KBA13_HALTER_20',\n",
       " 'KBA13_HALTER_25',\n",
       " 'KBA13_HALTER_30',\n",
       " 'KBA13_HALTER_35',\n",
       " 'KBA13_HALTER_40',\n",
       " 'KBA13_HALTER_45',\n",
       " 'KBA13_HALTER_50',\n",
       " 'KBA13_HALTER_55',\n",
       " 'KBA13_HALTER_60',\n",
       " 'KBA13_HALTER_65',\n",
       " 'KBA13_HALTER_66',\n",
       " 'KBA13_HERST_ASIEN',\n",
       " 'KBA13_HERST_AUDI_VW',\n",
       " 'KBA13_HERST_BMW_BENZ',\n",
       " 'KBA13_HERST_EUROPA',\n",
       " 'KBA13_HERST_FORD_OPEL',\n",
       " 'KBA13_HERST_SONST',\n",
       " 'KBA13_HHZ',\n",
       " 'KBA13_KMH_0_140',\n",
       " 'KBA13_KMH_110',\n",
       " 'KBA13_KMH_140',\n",
       " 'KBA13_KMH_140_210',\n",
       " 'KBA13_KMH_180',\n",
       " 'KBA13_KMH_210',\n",
       " 'KBA13_KMH_211',\n",
       " 'KBA13_KMH_250',\n",
       " 'KBA13_KMH_251',\n",
       " 'KBA13_KRSAQUOT',\n",
       " 'KBA13_KRSHERST_AUDI_VW',\n",
       " 'KBA13_KRSHERST_BMW_BENZ',\n",
       " 'KBA13_KRSHERST_FORD_OPEL',\n",
       " 'KBA13_KRSSEG_KLEIN',\n",
       " 'KBA13_KRSSEG_OBER',\n",
       " 'KBA13_KRSSEG_VAN',\n",
       " 'KBA13_KRSZUL_NEU',\n",
       " 'KBA13_KW_0_60',\n",
       " 'KBA13_KW_110',\n",
       " 'KBA13_KW_120',\n",
       " 'KBA13_KW_121',\n",
       " 'KBA13_KW_30',\n",
       " 'KBA13_KW_40',\n",
       " 'KBA13_KW_50',\n",
       " 'KBA13_KW_60',\n",
       " 'KBA13_KW_61_120',\n",
       " 'KBA13_KW_70',\n",
       " 'KBA13_KW_80',\n",
       " 'KBA13_KW_90',\n",
       " 'KBA13_MAZDA',\n",
       " 'KBA13_MERCEDES',\n",
       " 'KBA13_MOTOR',\n",
       " 'KBA13_NISSAN',\n",
       " 'KBA13_OPEL',\n",
       " 'KBA13_PEUGEOT',\n",
       " 'KBA13_RENAULT',\n",
       " 'KBA13_SEG_GELAENDEWAGEN',\n",
       " 'KBA13_SEG_GROSSRAUMVANS',\n",
       " 'KBA13_SEG_KLEINST',\n",
       " 'KBA13_SEG_KLEINWAGEN',\n",
       " 'KBA13_SEG_KOMPAKTKLASSE',\n",
       " 'KBA13_SEG_MINIVANS',\n",
       " 'KBA13_SEG_MINIWAGEN',\n",
       " 'KBA13_SEG_MITTELKLASSE',\n",
       " 'KBA13_SEG_OBEREMITTELKLASSE',\n",
       " 'KBA13_SEG_OBERKLASSE',\n",
       " 'KBA13_SEG_SONSTIGE',\n",
       " 'KBA13_SEG_SPORTWAGEN',\n",
       " 'KBA13_SEG_UTILITIES',\n",
       " 'KBA13_SEG_VAN',\n",
       " 'KBA13_SEG_WOHNMOBILE',\n",
       " 'KBA13_SITZE_4',\n",
       " 'KBA13_SITZE_5',\n",
       " 'KBA13_SITZE_6',\n",
       " 'KBA13_TOYOTA',\n",
       " 'KBA13_VORB_0',\n",
       " 'KBA13_VORB_1',\n",
       " 'KBA13_VORB_1_2',\n",
       " 'KBA13_VORB_2',\n",
       " 'KBA13_VORB_3',\n",
       " 'KBA13_VW',\n",
       " 'KKK',\n",
       " 'KK_KUNDENTYP',\n",
       " 'KONSUMNAEHE',\n",
       " 'KONSUMZELLE',\n",
       " 'LP_FAMILIE_FEIN',\n",
       " 'LP_FAMILIE_GROB',\n",
       " 'LP_LEBENSPHASE_FEIN',\n",
       " 'LP_LEBENSPHASE_GROB',\n",
       " 'LP_STATUS_FEIN',\n",
       " 'LP_STATUS_GROB',\n",
       " 'MIN_GEBAEUDEJAHR',\n",
       " 'MOBI_RASTER',\n",
       " 'MOBI_REGIO',\n",
       " 'NATIONALITAET_KZ',\n",
       " 'ONLINE_AFFINITAET',\n",
       " 'ORTSGR_KLS9',\n",
       " 'OST_WEST_KZ',\n",
       " 'PLZ8_ANTG1',\n",
       " 'PLZ8_ANTG2',\n",
       " 'PLZ8_ANTG3',\n",
       " 'PLZ8_ANTG4',\n",
       " 'PLZ8_BAUMAX',\n",
       " 'PLZ8_GBZ',\n",
       " 'PLZ8_HHZ',\n",
       " 'PRAEGENDE_JUGENDJAHRE',\n",
       " 'REGIOTYP',\n",
       " 'RELAT_AB',\n",
       " 'RETOURTYP_BK_S',\n",
       " 'SEMIO_DOM',\n",
       " 'SEMIO_ERL',\n",
       " 'SEMIO_FAM',\n",
       " 'SEMIO_KAEM',\n",
       " 'SEMIO_KRIT',\n",
       " 'SEMIO_KULT',\n",
       " 'SEMIO_LUST',\n",
       " 'SEMIO_MAT',\n",
       " 'SEMIO_PFLICHT',\n",
       " 'SEMIO_RAT',\n",
       " 'SEMIO_REL',\n",
       " 'SEMIO_SOZ',\n",
       " 'SEMIO_TRADV',\n",
       " 'SEMIO_VERT',\n",
       " 'SHOPPER_TYP',\n",
       " 'SOHO_KZ',\n",
       " 'TITEL_KZ',\n",
       " 'UNGLEICHENN_FLAG',\n",
       " 'VERS_TYP',\n",
       " 'WOHNDAUER_2008',\n",
       " 'WOHNLAGE',\n",
       " 'W_KEIT_KIND_HH',\n",
       " 'ZABEOTYP']"
      ]
     },
     "execution_count": 12,
     "metadata": {},
     "output_type": "execute_result"
    }
   ],
   "source": [
    "features_in_att = attributes['Attributes'].tolist()\n",
    "features_in_att"
   ]
  },
  {
   "cell_type": "code",
   "execution_count": 13,
   "metadata": {},
   "outputs": [
    {
     "data": {
      "text/plain": [
       "334"
      ]
     },
     "execution_count": 13,
     "metadata": {},
     "output_type": "execute_result"
    }
   ],
   "source": [
    "len(features_in_att)"
   ]
  },
  {
   "cell_type": "code",
   "execution_count": 14,
   "metadata": {},
   "outputs": [],
   "source": [
    "to_drop_nonexistent = list(set(azdias) - set(features_in_att))\n",
    "to_drop_nonexistent_c = list(set(customers) - set(features_in_att))"
   ]
  },
  {
   "cell_type": "code",
   "execution_count": 15,
   "metadata": {},
   "outputs": [],
   "source": [
    "azdias.drop(labels=to_drop_nonexistent, axis=1, inplace=True)\n",
    "customers.drop(labels=to_drop_nonexistent_c, axis=1, inplace=True)"
   ]
  },
  {
   "cell_type": "code",
   "execution_count": 16,
   "metadata": {},
   "outputs": [
    {
     "data": {
      "text/plain": [
       "32"
      ]
     },
     "execution_count": 16,
     "metadata": {},
     "output_type": "execute_result"
    }
   ],
   "source": [
    "len(to_drop_nonexistent)"
   ]
  },
  {
   "cell_type": "code",
   "execution_count": 17,
   "metadata": {},
   "outputs": [
    {
     "data": {
      "text/plain": [
       "35"
      ]
     },
     "execution_count": 17,
     "metadata": {},
     "output_type": "execute_result"
    }
   ],
   "source": [
    "len(to_drop_nonexistent_c)"
   ]
  },
  {
   "cell_type": "code",
   "execution_count": 18,
   "metadata": {},
   "outputs": [
    {
     "data": {
      "text/plain": [
       "(891221, 334)"
      ]
     },
     "execution_count": 18,
     "metadata": {},
     "output_type": "execute_result"
    }
   ],
   "source": [
    "azdias.shape"
   ]
  },
  {
   "cell_type": "code",
   "execution_count": 19,
   "metadata": {
    "scrolled": true
   },
   "outputs": [
    {
     "data": {
      "text/plain": [
       "(191652, 334)"
      ]
     },
     "execution_count": 19,
     "metadata": {},
     "output_type": "execute_result"
    }
   ],
   "source": [
    "customers.shape"
   ]
  },
  {
   "cell_type": "markdown",
   "metadata": {},
   "source": [
    "### Convert to float for features that are marked as float in attributes metadata"
   ]
  },
  {
   "cell_type": "code",
   "execution_count": 22,
   "metadata": {},
   "outputs": [],
   "source": [
    "#Convert to float - Azdias\n",
    "for column in azdias.columns:\n",
    "    if azdias[column].dtype == np.int64:\n",
    "        azdias[column] = azdias[column].astype(np.float64)"
   ]
  },
  {
   "cell_type": "code",
   "execution_count": 23,
   "metadata": {},
   "outputs": [],
   "source": [
    "#Convert to float - Customers\n",
    "for column in customers.columns:\n",
    "    if customers[column].dtype == np.int64:\n",
    "        customers[column] = customers[column].astype(np.float64)"
   ]
  },
  {
   "cell_type": "markdown",
   "metadata": {},
   "source": [
    "### Remove missing data"
   ]
  },
  {
   "cell_type": "code",
   "execution_count": 20,
   "metadata": {},
   "outputs": [],
   "source": [
    "missing_value_series = pd.Series(attributes['Missing Values'].values, index=attributes['Attributes'])"
   ]
  },
  {
   "cell_type": "code",
   "execution_count": 21,
   "metadata": {},
   "outputs": [
    {
     "data": {
      "text/plain": [
       "Attributes\n",
       "AGER_TYP                  [-1,0]\n",
       "ALTERSKATEGORIE_FEIN    [-1,0.9]\n",
       "ALTERSKATEGORIE_GROB    [-1,0,9]\n",
       "ALTER_HH                     [0]\n",
       "ANREDE_KZ                 [-1,0]\n",
       "                          ...   \n",
       "VERS_TYP                    [-1]\n",
       "WOHNDAUER_2008            [-1,0]\n",
       "WOHNLAGE                  [-1,0]\n",
       "W_KEIT_KIND_HH            [-1,0]\n",
       "ZABEOTYP                  [-1,9]\n",
       "Length: 334, dtype: object"
      ]
     },
     "execution_count": 21,
     "metadata": {},
     "output_type": "execute_result"
    }
   ],
   "source": [
    "missing_value_series "
   ]
  },
  {
   "cell_type": "code",
   "execution_count": 24,
   "metadata": {},
   "outputs": [],
   "source": [
    "#Label missing value - Azdias\n",
    "for column in azdias.columns:\n",
    "    \n",
    "    isin = ast.literal_eval(missing_value_series[column])\n",
    "    \n",
    "    azdias[column] = azdias[column].mask(azdias[column].isin(isin), other=np.nan)"
   ]
  },
  {
   "cell_type": "code",
   "execution_count": 25,
   "metadata": {},
   "outputs": [],
   "source": [
    "#Label missing value - Customers\n",
    "for column in customers.columns:\n",
    "    \n",
    "    isin = ast.literal_eval(missing_value_series[column])\n",
    "    \n",
    "    customers[column] = customers[column].mask(customers[column].isin(isin), other=np.nan)"
   ]
  },
  {
   "cell_type": "code",
   "execution_count": 26,
   "metadata": {},
   "outputs": [
    {
     "data": {
      "text/plain": [
       "AGER_TYP                0.769554\n",
       "ALTER_HH                0.348137\n",
       "ALTERSKATEGORIE_FEIN    0.295041\n",
       "ANZ_HAUSHALTE_AKTIV     0.104517\n",
       "ANZ_HH_TITEL            0.108848\n",
       "                          ...   \n",
       "WOHNDAUER_2008          0.082470\n",
       "WOHNLAGE                0.112316\n",
       "ZABEOTYP                0.000000\n",
       "ANREDE_KZ               0.000000\n",
       "ALTERSKATEGORIE_GROB    0.003233\n",
       "Length: 334, dtype: float64"
      ]
     },
     "execution_count": 26,
     "metadata": {},
     "output_type": "execute_result"
    }
   ],
   "source": [
    "missing_perct_column = azdias.isnull().mean(axis=0)\n",
    "missing_perct_column"
   ]
  },
  {
   "cell_type": "code",
   "execution_count": 27,
   "metadata": {},
   "outputs": [
    {
     "data": {
      "text/plain": [
       "Text(0.5, 1.0, 'Proportion of NaN Values in azdias Columns')"
      ]
     },
     "execution_count": 27,
     "metadata": {},
     "output_type": "execute_result"
    },
    {
     "data": {
      "image/png": "[encoded data removed]",
      "text/plain": [
       "<Figure size 432x288 with 1 Axes>"
      ]
     },
     "metadata": {
      "needs_background": "light"
     },
     "output_type": "display_data"
    }
   ],
   "source": [
    "plt.hist(missing_perct_column, bins=20);\n",
    "\n",
    "plt.xlabel('Proportion of NaN Values in the Feature/Column')\n",
    "plt.ylabel('Number of Features/Columns in azdias')\n",
    "plt.title('Proportion of NaN Values in azdias Columns')"
   ]
  },
  {
   "cell_type": "code",
   "execution_count": 28,
   "metadata": {},
   "outputs": [],
   "source": [
    "to_drop_missing = missing_perct_column[missing_perct_column > 0.2].index\n",
    "azdias.drop(labels=to_drop_missing, axis=1, inplace=True)\n",
    "customers.drop(labels=to_drop_missing, axis=1, inplace=True)"
   ]
  },
  {
   "cell_type": "code",
   "execution_count": 29,
   "metadata": {},
   "outputs": [
    {
     "data": {
      "text/plain": [
       "(891221, 261)"
      ]
     },
     "execution_count": 29,
     "metadata": {},
     "output_type": "execute_result"
    }
   ],
   "source": [
    "azdias.shape"
   ]
  },
  {
   "cell_type": "code",
   "execution_count": 30,
   "metadata": {},
   "outputs": [
    {
     "data": {
      "text/plain": [
       "(191652, 261)"
      ]
     },
     "execution_count": 30,
     "metadata": {},
     "output_type": "execute_result"
    }
   ],
   "source": [
    "customers.shape"
   ]
  },
  {
   "cell_type": "code",
   "execution_count": 31,
   "metadata": {},
   "outputs": [
    {
     "data": {
      "text/plain": [
       "0         0.862069\n",
       "1         0.000000\n",
       "2         0.000000\n",
       "3         0.030651\n",
       "4         0.000000\n",
       "            ...   \n",
       "891216    0.011494\n",
       "891217    0.015326\n",
       "891218    0.022989\n",
       "891219    0.000000\n",
       "891220    0.000000\n",
       "Length: 891221, dtype: float64"
      ]
     },
     "execution_count": 31,
     "metadata": {},
     "output_type": "execute_result"
    }
   ],
   "source": [
    "missing_perct_row = azdias.isnull().mean(axis=1)\n",
    "missing_perct_row"
   ]
  },
  {
   "cell_type": "code",
   "execution_count": 32,
   "metadata": {},
   "outputs": [],
   "source": [
    "azdias = azdias[missing_perct_row < 0.2]\n",
    "customers = customers[missing_perct_row < 0.2]"
   ]
  },
  {
   "cell_type": "code",
   "execution_count": 33,
   "metadata": {},
   "outputs": [
    {
     "data": {
      "text/plain": [
       "(737288, 261)"
      ]
     },
     "execution_count": 33,
     "metadata": {},
     "output_type": "execute_result"
    }
   ],
   "source": [
    "azdias.shape"
   ]
  },
  {
   "cell_type": "code",
   "execution_count": 34,
   "metadata": {},
   "outputs": [
    {
     "data": {
      "text/plain": [
       "(159036, 261)"
      ]
     },
     "execution_count": 34,
     "metadata": {},
     "output_type": "execute_result"
    }
   ],
   "source": [
    "customers.shape"
   ]
  },
  {
   "cell_type": "markdown",
   "metadata": {},
   "source": [
    "### Re-encoding of Features"
   ]
  },
  {
   "cell_type": "code",
   "execution_count": 37,
   "metadata": {},
   "outputs": [
    {
     "data": {
      "text/plain": [
       "0              AGER_TYP\n",
       "4             ANREDE_KZ\n",
       "13      CAMEO_DEUG_2015\n",
       "14       CAMEO_DEU_2015\n",
       "16        CJT_GESAMTTYP\n",
       "46        D19_KONSUMTYP\n",
       "83             DSL_FLAG\n",
       "86            FINANZTYP\n",
       "93          GEBAEUDETYP\n",
       "96      GFK_URLAUBERTYP\n",
       "97     GREEN_AVANTGARDE\n",
       "99        HH_DELTA_FLAG\n",
       "284        KK_KUNDENTYP\n",
       "286         KONSUMZELLE\n",
       "287     LP_FAMILIE_FEIN\n",
       "288     LP_FAMILIE_GROB\n",
       "291      LP_STATUS_FEIN\n",
       "292      LP_STATUS_GROB\n",
       "296    NATIONALITAET_KZ\n",
       "299         OST_WEST_KZ\n",
       "325         SHOPPER_TYP\n",
       "326             SOHO_KZ\n",
       "327            TITEL_KZ\n",
       "328    UNGLEICHENN_FLAG\n",
       "329            VERS_TYP\n",
       "333            ZABEOTYP\n",
       "Name: Attributes, dtype: object"
      ]
     },
     "execution_count": 37,
     "metadata": {},
     "output_type": "execute_result"
    }
   ],
   "source": [
    "#categorical features from list of attributes, not dataset\n",
    "categorical_features_attributes = attributes['Attributes'].loc[attributes['Variable Type'] == 'categorical']\n",
    "\n",
    "categorical_features_attributes"
   ]
  },
  {
   "cell_type": "code",
   "execution_count": 38,
   "metadata": {},
   "outputs": [
    {
     "name": "stdout",
     "output_type": "stream",
     "text": [
      "ANREDE_KZ, feature from attributes, is also a feature/column of azdias.\n",
      "CAMEO_DEUG_2015, feature from attributes, is also a feature/column of azdias.\n",
      "CAMEO_DEU_2015, feature from attributes, is also a feature/column of azdias.\n",
      "CJT_GESAMTTYP, feature from attributes, is also a feature/column of azdias.\n",
      "DSL_FLAG, feature from attributes, is also a feature/column of azdias.\n",
      "FINANZTYP, feature from attributes, is also a feature/column of azdias.\n",
      "GEBAEUDETYP, feature from attributes, is also a feature/column of azdias.\n",
      "GFK_URLAUBERTYP, feature from attributes, is also a feature/column of azdias.\n",
      "GREEN_AVANTGARDE, feature from attributes, is also a feature/column of azdias.\n",
      "HH_DELTA_FLAG, feature from attributes, is also a feature/column of azdias.\n",
      "KONSUMZELLE, feature from attributes, is also a feature/column of azdias.\n",
      "LP_FAMILIE_FEIN, feature from attributes, is also a feature/column of azdias.\n",
      "LP_FAMILIE_GROB, feature from attributes, is also a feature/column of azdias.\n",
      "LP_STATUS_FEIN, feature from attributes, is also a feature/column of azdias.\n",
      "LP_STATUS_GROB, feature from attributes, is also a feature/column of azdias.\n",
      "NATIONALITAET_KZ, feature from attributes, is also a feature/column of azdias.\n",
      "OST_WEST_KZ, feature from attributes, is also a feature/column of azdias.\n",
      "SHOPPER_TYP, feature from attributes, is also a feature/column of azdias.\n",
      "SOHO_KZ, feature from attributes, is also a feature/column of azdias.\n",
      "UNGLEICHENN_FLAG, feature from attributes, is also a feature/column of azdias.\n",
      "VERS_TYP, feature from attributes, is also a feature/column of azdias.\n",
      "ZABEOTYP, feature from attributes, is also a feature/column of azdias.\n",
      "There are 26 categorical features in attributes, and 22 categorical features in azdias.\n"
     ]
    }
   ],
   "source": [
    "#categorical features from azdias dataset\n",
    "categorical_features_azdias = []\n",
    "\n",
    "for feature in categorical_features_attributes:\n",
    "    \n",
    "    if feature in azdias.columns:\n",
    "        \n",
    "        print(feature + ', feature from attributes, is also a feature/column of azdias.')\n",
    "        \n",
    "        categorical_features_azdias.append(feature)\n",
    "\n",
    "\n",
    "print('There are ' + str(len(categorical_features_attributes)) + ' categorical features in attributes, and ' \n",
    "      + str(len(categorical_features_azdias)) + ' categorical features in azdias.')"
   ]
  },
  {
   "cell_type": "code",
   "execution_count": 39,
   "metadata": {},
   "outputs": [
    {
     "name": "stdout",
     "output_type": "stream",
     "text": [
      "ANREDE_KZ, feature from attributes, is also a feature/column of customers.\n",
      "CAMEO_DEUG_2015, feature from attributes, is also a feature/column of customers.\n",
      "CAMEO_DEU_2015, feature from attributes, is also a feature/column of customers.\n",
      "CJT_GESAMTTYP, feature from attributes, is also a feature/column of customers.\n",
      "DSL_FLAG, feature from attributes, is also a feature/column of customers.\n",
      "FINANZTYP, feature from attributes, is also a feature/column of customers.\n",
      "GEBAEUDETYP, feature from attributes, is also a feature/column of customers.\n",
      "GFK_URLAUBERTYP, feature from attributes, is also a feature/column of customers.\n",
      "GREEN_AVANTGARDE, feature from attributes, is also a feature/column of customers.\n",
      "HH_DELTA_FLAG, feature from attributes, is also a feature/column of customers.\n",
      "KONSUMZELLE, feature from attributes, is also a feature/column of customers.\n",
      "LP_FAMILIE_FEIN, feature from attributes, is also a feature/column of customers.\n",
      "LP_FAMILIE_GROB, feature from attributes, is also a feature/column of customers.\n",
      "LP_STATUS_FEIN, feature from attributes, is also a feature/column of customers.\n",
      "LP_STATUS_GROB, feature from attributes, is also a feature/column of customers.\n",
      "NATIONALITAET_KZ, feature from attributes, is also a feature/column of customers.\n",
      "OST_WEST_KZ, feature from attributes, is also a feature/column of customers.\n",
      "SHOPPER_TYP, feature from attributes, is also a feature/column of customers.\n",
      "SOHO_KZ, feature from attributes, is also a feature/column of customers.\n",
      "UNGLEICHENN_FLAG, feature from attributes, is also a feature/column of customers.\n",
      "VERS_TYP, feature from attributes, is also a feature/column of customers.\n",
      "ZABEOTYP, feature from attributes, is also a feature/column of customers.\n",
      "There are 26 categorical features in attributes, and 22 categorical features in customers.\n"
     ]
    }
   ],
   "source": [
    "#categorical features from customers dataset\n",
    "categorical_features_customers = []\n",
    "\n",
    "for feature in categorical_features_attributes:\n",
    "    \n",
    "    if feature in customers.columns:\n",
    "        \n",
    "        print(feature + ', feature from attributes, is also a feature/column of customers.')\n",
    "        \n",
    "        categorical_features_customers.append(feature)\n",
    "\n",
    "\n",
    "print('There are ' + str(len(categorical_features_attributes)) + ' categorical features in attributes, and ' \n",
    "      + str(len(categorical_features_customers)) + ' categorical features in customers.')"
   ]
  },
  {
   "cell_type": "code",
   "execution_count": 40,
   "metadata": {},
   "outputs": [
    {
     "data": {
      "text/plain": [
       "15           CAMEO_INTL_2015\n",
       "289      LP_LEBENSPHASE_FEIN\n",
       "290      LP_LEBENSPHASE_GROB\n",
       "307    PRAEGENDE_JUGENDJAHRE\n",
       "Name: Attributes, dtype: object"
      ]
     },
     "execution_count": 40,
     "metadata": {},
     "output_type": "execute_result"
    }
   ],
   "source": [
    "mixed_features_attributes = attributes['Attributes'].loc[attributes['Variable Type'] == 'mixed']\n",
    "\n",
    "mixed_features_attributes"
   ]
  },
  {
   "cell_type": "code",
   "execution_count": 41,
   "metadata": {},
   "outputs": [
    {
     "name": "stdout",
     "output_type": "stream",
     "text": [
      "CAMEO_INTL_2015, feature from attributes, is also a feature/column of azdias.\n",
      "LP_LEBENSPHASE_FEIN, feature from attributes, is also a feature/column of azdias.\n",
      "LP_LEBENSPHASE_GROB, feature from attributes, is also a feature/column of azdias.\n",
      "PRAEGENDE_JUGENDJAHRE, feature from attributes, is also a feature/column of azdias.\n",
      "There are 4 mixed features in attributes, and 4 mixed features in azdias.\n"
     ]
    }
   ],
   "source": [
    "mixed_features_azdias = [] # mixed features (in attributes) that are also in azdias\n",
    "\n",
    "for feature in mixed_features_attributes:\n",
    "    \n",
    "    if feature in azdias.columns:\n",
    "        \n",
    "        print(feature + ', feature from attributes, is also a feature/column of azdias.')\n",
    "        \n",
    "        mixed_features_azdias.append(feature)\n",
    "\n",
    "\n",
    "print('There are ' + str(len(mixed_features_attributes)) + ' mixed features in attributes, and ' \n",
    "      + str(len(mixed_features_azdias)) + ' mixed features in azdias.')"
   ]
  },
  {
   "cell_type": "code",
   "execution_count": 42,
   "metadata": {},
   "outputs": [
    {
     "name": "stdout",
     "output_type": "stream",
     "text": [
      "CAMEO_INTL_2015, feature from attributes, is also a feature/column of customers.\n",
      "LP_LEBENSPHASE_FEIN, feature from attributes, is also a feature/column of customers.\n",
      "LP_LEBENSPHASE_GROB, feature from attributes, is also a feature/column of customers.\n",
      "PRAEGENDE_JUGENDJAHRE, feature from attributes, is also a feature/column of customers.\n",
      "There are 4 mixed features in attributes, and 4 mixed features in customers.\n"
     ]
    }
   ],
   "source": [
    "mixed_features_customers = [] \n",
    "\n",
    "for feature in mixed_features_attributes:\n",
    "    \n",
    "    if feature in customers.columns:\n",
    "        \n",
    "        print(feature + ', feature from attributes, is also a feature/column of customers.')\n",
    "        \n",
    "        mixed_features_customers.append(feature)\n",
    "\n",
    "\n",
    "print('There are ' + str(len(mixed_features_attributes)) + ' mixed features in attributes, and ' \n",
    "      + str(len(mixed_features_customers)) + ' mixed features in customers.')"
   ]
  },
  {
   "cell_type": "markdown",
   "metadata": {},
   "source": [
    "#### 1. Categorical to Numerical"
   ]
  },
  {
   "cell_type": "code",
   "execution_count": 43,
   "metadata": {},
   "outputs": [],
   "source": [
    "cat_binary_numerical = []\n",
    "cat_binary_nonnumerical = []\n",
    "cat_multilevel = []\n",
    "\n",
    "for attribute in categorical_features_azdias:\n",
    "    dtype = azdias[attribute].dtype\n",
    "    count = len(azdias[attribute].value_counts())\n",
    "\n",
    "    # if multi-level categorical feature\n",
    "    if count > 2:\n",
    "        cat_multilevel.append(attribute)\n",
    "    else:\n",
    "        if dtype == 'object':\n",
    "            cat_binary_nonnumerical.append(attribute)\n",
    "        else:\n",
    "            cat_binary_numerical.append(attribute)"
   ]
  },
  {
   "cell_type": "code",
   "execution_count": 44,
   "metadata": {},
   "outputs": [
    {
     "data": {
      "text/plain": [
       "['ANREDE_KZ',\n",
       " 'DSL_FLAG',\n",
       " 'GREEN_AVANTGARDE',\n",
       " 'HH_DELTA_FLAG',\n",
       " 'KONSUMZELLE',\n",
       " 'SOHO_KZ',\n",
       " 'UNGLEICHENN_FLAG',\n",
       " 'VERS_TYP']"
      ]
     },
     "execution_count": 44,
     "metadata": {},
     "output_type": "execute_result"
    }
   ],
   "source": [
    "cat_binary_numerical"
   ]
  },
  {
   "cell_type": "code",
   "execution_count": 45,
   "metadata": {},
   "outputs": [
    {
     "data": {
      "text/plain": [
       "['OST_WEST_KZ']"
      ]
     },
     "execution_count": 45,
     "metadata": {},
     "output_type": "execute_result"
    }
   ],
   "source": [
    "cat_binary_nonnumerical"
   ]
  },
  {
   "cell_type": "code",
   "execution_count": 46,
   "metadata": {},
   "outputs": [
    {
     "data": {
      "text/plain": [
       "['CAMEO_DEUG_2015',\n",
       " 'CAMEO_DEU_2015',\n",
       " 'CJT_GESAMTTYP',\n",
       " 'FINANZTYP',\n",
       " 'GEBAEUDETYP',\n",
       " 'GFK_URLAUBERTYP',\n",
       " 'LP_FAMILIE_FEIN',\n",
       " 'LP_FAMILIE_GROB',\n",
       " 'LP_STATUS_FEIN',\n",
       " 'LP_STATUS_GROB',\n",
       " 'NATIONALITAET_KZ',\n",
       " 'SHOPPER_TYP',\n",
       " 'ZABEOTYP']"
      ]
     },
     "execution_count": 46,
     "metadata": {},
     "output_type": "execute_result"
    }
   ],
   "source": [
    "cat_multilevel"
   ]
  },
  {
   "cell_type": "code",
   "execution_count": 47,
   "metadata": {},
   "outputs": [],
   "source": [
    "cat_binary_numerical_c = []\n",
    "cat_binary_nonnumerical_c = []\n",
    "cat_multilevel_c = []\n",
    "\n",
    "for attribute in categorical_features_customers:\n",
    "    dtype = customers[attribute].dtype\n",
    "    count = len(customers[attribute].value_counts())\n",
    "\n",
    "    # if multi-level categorical feature\n",
    "    if count > 2:\n",
    "        cat_multilevel_c.append(attribute)\n",
    "    else:\n",
    "        if dtype == 'object':\n",
    "            cat_binary_nonnumerical_c.append(attribute)\n",
    "        else:\n",
    "            cat_binary_numerical_c.append(attribute)"
   ]
  },
  {
   "cell_type": "code",
   "execution_count": 48,
   "metadata": {},
   "outputs": [
    {
     "data": {
      "text/plain": [
       "['ANREDE_KZ',\n",
       " 'DSL_FLAG',\n",
       " 'GREEN_AVANTGARDE',\n",
       " 'HH_DELTA_FLAG',\n",
       " 'KONSUMZELLE',\n",
       " 'SOHO_KZ',\n",
       " 'UNGLEICHENN_FLAG',\n",
       " 'VERS_TYP']"
      ]
     },
     "execution_count": 48,
     "metadata": {},
     "output_type": "execute_result"
    }
   ],
   "source": [
    "cat_binary_numerical_c"
   ]
  },
  {
   "cell_type": "code",
   "execution_count": 49,
   "metadata": {},
   "outputs": [
    {
     "data": {
      "text/plain": [
       "['OST_WEST_KZ']"
      ]
     },
     "execution_count": 49,
     "metadata": {},
     "output_type": "execute_result"
    }
   ],
   "source": [
    "cat_binary_nonnumerical_c"
   ]
  },
  {
   "cell_type": "code",
   "execution_count": 50,
   "metadata": {},
   "outputs": [
    {
     "data": {
      "text/plain": [
       "['CAMEO_DEUG_2015',\n",
       " 'CAMEO_DEU_2015',\n",
       " 'CJT_GESAMTTYP',\n",
       " 'FINANZTYP',\n",
       " 'GEBAEUDETYP',\n",
       " 'GFK_URLAUBERTYP',\n",
       " 'LP_FAMILIE_FEIN',\n",
       " 'LP_FAMILIE_GROB',\n",
       " 'LP_STATUS_FEIN',\n",
       " 'LP_STATUS_GROB',\n",
       " 'NATIONALITAET_KZ',\n",
       " 'SHOPPER_TYP',\n",
       " 'ZABEOTYP']"
      ]
     },
     "execution_count": 50,
     "metadata": {},
     "output_type": "execute_result"
    }
   ],
   "source": [
    "cat_multilevel_c"
   ]
  },
  {
   "cell_type": "code",
   "execution_count": 51,
   "metadata": {},
   "outputs": [],
   "source": [
    "#Re-encoding Binary Non-Numerical\n",
    "\n",
    "azdias['OST_WEST_KZ'] = azdias['OST_WEST_KZ'].map({'W': 1, 'O': 2})\n",
    "customers['OST_WEST_KZ'] = customers['OST_WEST_KZ'].map({'W': 1, 'O': 2})\n",
    "\n",
    "#Re-encoding MultiLevel\n",
    "\n",
    "list_columns_to_add = []\n",
    "list_columns_to_add_c = []\n",
    "\n",
    "#AZDIAS\n",
    "for column in cat_multilevel:\n",
    "    \n",
    "    # delete features with 10 or more levels - only select those with less than 10\n",
    "    if len(azdias[column].value_counts()) < 10:\n",
    "        list_columns_to_add.append(pd.get_dummies(azdias[column], prefix=column))\n",
    "        \n",
    "    \n",
    "# drop the original\n",
    "azdias.drop(cat_multilevel, axis=1, inplace=True)\n",
    "\n",
    "list_columns_to_add.append(azdias) \n",
    "\n",
    "# add the re-encoded\n",
    "azdias = pd.concat(list_columns_to_add, axis=1)"
   ]
  },
  {
   "cell_type": "code",
   "execution_count": 52,
   "metadata": {},
   "outputs": [],
   "source": [
    "#CUSTOMERS\n",
    "for column in cat_multilevel_c:\n",
    "    \n",
    "    # delete features with 10 or more levels - only select those with less than 10\n",
    "    if len(customers[column].value_counts()) < 10:\n",
    "        list_columns_to_add_c.append(pd.get_dummies(customers[column], prefix=column))\n",
    "        \n",
    "    \n",
    "# drop the original\n",
    "customers.drop(cat_multilevel_c, axis=1, inplace=True)\n",
    "\n",
    "list_columns_to_add_c.append(customers) \n",
    "\n",
    "# add the re-encoded\n",
    "customers = pd.concat(list_columns_to_add_c, axis=1)"
   ]
  },
  {
   "cell_type": "code",
   "execution_count": 53,
   "metadata": {},
   "outputs": [
    {
     "data": {
      "text/html": [
       "<div>\n",
       "<style scoped>\n",
       "    .dataframe tbody tr th:only-of-type {\n",
       "        vertical-align: middle;\n",
       "    }\n",
       "\n",
       "    .dataframe tbody tr th {\n",
       "        vertical-align: top;\n",
       "    }\n",
       "\n",
       "    .dataframe thead th {\n",
       "        text-align: right;\n",
       "    }\n",
       "</style>\n",
       "<table border=\"1\" class=\"dataframe\">\n",
       "  <thead>\n",
       "    <tr style=\"text-align: right;\">\n",
       "      <th></th>\n",
       "      <th>CJT_GESAMTTYP_1.0</th>\n",
       "      <th>CJT_GESAMTTYP_2.0</th>\n",
       "      <th>CJT_GESAMTTYP_3.0</th>\n",
       "      <th>CJT_GESAMTTYP_4.0</th>\n",
       "      <th>CJT_GESAMTTYP_5.0</th>\n",
       "      <th>CJT_GESAMTTYP_6.0</th>\n",
       "      <th>FINANZTYP_1.0</th>\n",
       "      <th>FINANZTYP_2.0</th>\n",
       "      <th>FINANZTYP_3.0</th>\n",
       "      <th>FINANZTYP_4.0</th>\n",
       "      <th>...</th>\n",
       "      <th>SEMIO_TRADV</th>\n",
       "      <th>SEMIO_VERT</th>\n",
       "      <th>SOHO_KZ</th>\n",
       "      <th>UNGLEICHENN_FLAG</th>\n",
       "      <th>VERS_TYP</th>\n",
       "      <th>W_KEIT_KIND_HH</th>\n",
       "      <th>WOHNDAUER_2008</th>\n",
       "      <th>WOHNLAGE</th>\n",
       "      <th>ANREDE_KZ</th>\n",
       "      <th>ALTERSKATEGORIE_GROB</th>\n",
       "    </tr>\n",
       "  </thead>\n",
       "  <tbody>\n",
       "    <tr>\n",
       "      <th>1</th>\n",
       "      <td>0</td>\n",
       "      <td>0</td>\n",
       "      <td>0</td>\n",
       "      <td>0</td>\n",
       "      <td>1</td>\n",
       "      <td>0</td>\n",
       "      <td>1</td>\n",
       "      <td>0</td>\n",
       "      <td>0</td>\n",
       "      <td>0</td>\n",
       "      <td>...</td>\n",
       "      <td>6.0</td>\n",
       "      <td>1.0</td>\n",
       "      <td>1.0</td>\n",
       "      <td>1.0</td>\n",
       "      <td>2.0</td>\n",
       "      <td>3.0</td>\n",
       "      <td>9.0</td>\n",
       "      <td>4.0</td>\n",
       "      <td>2.0</td>\n",
       "      <td>1.0</td>\n",
       "    </tr>\n",
       "    <tr>\n",
       "      <th>2</th>\n",
       "      <td>0</td>\n",
       "      <td>0</td>\n",
       "      <td>1</td>\n",
       "      <td>0</td>\n",
       "      <td>0</td>\n",
       "      <td>0</td>\n",
       "      <td>1</td>\n",
       "      <td>0</td>\n",
       "      <td>0</td>\n",
       "      <td>0</td>\n",
       "      <td>...</td>\n",
       "      <td>3.0</td>\n",
       "      <td>4.0</td>\n",
       "      <td>0.0</td>\n",
       "      <td>0.0</td>\n",
       "      <td>1.0</td>\n",
       "      <td>3.0</td>\n",
       "      <td>9.0</td>\n",
       "      <td>2.0</td>\n",
       "      <td>2.0</td>\n",
       "      <td>3.0</td>\n",
       "    </tr>\n",
       "    <tr>\n",
       "      <th>3</th>\n",
       "      <td>0</td>\n",
       "      <td>1</td>\n",
       "      <td>0</td>\n",
       "      <td>0</td>\n",
       "      <td>0</td>\n",
       "      <td>0</td>\n",
       "      <td>0</td>\n",
       "      <td>0</td>\n",
       "      <td>0</td>\n",
       "      <td>0</td>\n",
       "      <td>...</td>\n",
       "      <td>4.0</td>\n",
       "      <td>4.0</td>\n",
       "      <td>0.0</td>\n",
       "      <td>0.0</td>\n",
       "      <td>1.0</td>\n",
       "      <td>NaN</td>\n",
       "      <td>9.0</td>\n",
       "      <td>7.0</td>\n",
       "      <td>2.0</td>\n",
       "      <td>4.0</td>\n",
       "    </tr>\n",
       "    <tr>\n",
       "      <th>4</th>\n",
       "      <td>0</td>\n",
       "      <td>0</td>\n",
       "      <td>0</td>\n",
       "      <td>0</td>\n",
       "      <td>1</td>\n",
       "      <td>0</td>\n",
       "      <td>0</td>\n",
       "      <td>0</td>\n",
       "      <td>0</td>\n",
       "      <td>0</td>\n",
       "      <td>...</td>\n",
       "      <td>2.0</td>\n",
       "      <td>7.0</td>\n",
       "      <td>0.0</td>\n",
       "      <td>0.0</td>\n",
       "      <td>2.0</td>\n",
       "      <td>2.0</td>\n",
       "      <td>9.0</td>\n",
       "      <td>3.0</td>\n",
       "      <td>1.0</td>\n",
       "      <td>3.0</td>\n",
       "    </tr>\n",
       "    <tr>\n",
       "      <th>5</th>\n",
       "      <td>0</td>\n",
       "      <td>1</td>\n",
       "      <td>0</td>\n",
       "      <td>0</td>\n",
       "      <td>0</td>\n",
       "      <td>0</td>\n",
       "      <td>0</td>\n",
       "      <td>1</td>\n",
       "      <td>0</td>\n",
       "      <td>0</td>\n",
       "      <td>...</td>\n",
       "      <td>6.0</td>\n",
       "      <td>2.0</td>\n",
       "      <td>0.0</td>\n",
       "      <td>0.0</td>\n",
       "      <td>2.0</td>\n",
       "      <td>6.0</td>\n",
       "      <td>9.0</td>\n",
       "      <td>7.0</td>\n",
       "      <td>2.0</td>\n",
       "      <td>1.0</td>\n",
       "    </tr>\n",
       "  </tbody>\n",
       "</table>\n",
       "<p>5 rows × 290 columns</p>\n",
       "</div>"
      ],
      "text/plain": [
       "   CJT_GESAMTTYP_1.0  CJT_GESAMTTYP_2.0  CJT_GESAMTTYP_3.0  CJT_GESAMTTYP_4.0  \\\n",
       "1                  0                  0                  0                  0   \n",
       "2                  0                  0                  1                  0   \n",
       "3                  0                  1                  0                  0   \n",
       "4                  0                  0                  0                  0   \n",
       "5                  0                  1                  0                  0   \n",
       "\n",
       "   CJT_GESAMTTYP_5.0  CJT_GESAMTTYP_6.0  FINANZTYP_1.0  FINANZTYP_2.0  \\\n",
       "1                  1                  0              1              0   \n",
       "2                  0                  0              1              0   \n",
       "3                  0                  0              0              0   \n",
       "4                  1                  0              0              0   \n",
       "5                  0                  0              0              1   \n",
       "\n",
       "   FINANZTYP_3.0  FINANZTYP_4.0  ...  SEMIO_TRADV  SEMIO_VERT  SOHO_KZ  \\\n",
       "1              0              0  ...          6.0         1.0      1.0   \n",
       "2              0              0  ...          3.0         4.0      0.0   \n",
       "3              0              0  ...          4.0         4.0      0.0   \n",
       "4              0              0  ...          2.0         7.0      0.0   \n",
       "5              0              0  ...          6.0         2.0      0.0   \n",
       "\n",
       "   UNGLEICHENN_FLAG  VERS_TYP  W_KEIT_KIND_HH  WOHNDAUER_2008  WOHNLAGE  \\\n",
       "1               1.0       2.0             3.0             9.0       4.0   \n",
       "2               0.0       1.0             3.0             9.0       2.0   \n",
       "3               0.0       1.0             NaN             9.0       7.0   \n",
       "4               0.0       2.0             2.0             9.0       3.0   \n",
       "5               0.0       2.0             6.0             9.0       7.0   \n",
       "\n",
       "   ANREDE_KZ  ALTERSKATEGORIE_GROB  \n",
       "1        2.0                   1.0  \n",
       "2        2.0                   3.0  \n",
       "3        2.0                   4.0  \n",
       "4        1.0                   3.0  \n",
       "5        2.0                   1.0  \n",
       "\n",
       "[5 rows x 290 columns]"
      ]
     },
     "execution_count": 53,
     "metadata": {},
     "output_type": "execute_result"
    }
   ],
   "source": [
    "# Check\n",
    "azdias.head()"
   ]
  },
  {
   "cell_type": "code",
   "execution_count": 54,
   "metadata": {},
   "outputs": [
    {
     "data": {
      "text/plain": [
       "(737288, 290)"
      ]
     },
     "execution_count": 54,
     "metadata": {},
     "output_type": "execute_result"
    }
   ],
   "source": [
    "azdias.shape"
   ]
  },
  {
   "cell_type": "code",
   "execution_count": 55,
   "metadata": {},
   "outputs": [
    {
     "data": {
      "text/html": [
       "<div>\n",
       "<style scoped>\n",
       "    .dataframe tbody tr th:only-of-type {\n",
       "        vertical-align: middle;\n",
       "    }\n",
       "\n",
       "    .dataframe tbody tr th {\n",
       "        vertical-align: top;\n",
       "    }\n",
       "\n",
       "    .dataframe thead th {\n",
       "        text-align: right;\n",
       "    }\n",
       "</style>\n",
       "<table border=\"1\" class=\"dataframe\">\n",
       "  <thead>\n",
       "    <tr style=\"text-align: right;\">\n",
       "      <th></th>\n",
       "      <th>CJT_GESAMTTYP_1.0</th>\n",
       "      <th>CJT_GESAMTTYP_2.0</th>\n",
       "      <th>CJT_GESAMTTYP_3.0</th>\n",
       "      <th>CJT_GESAMTTYP_4.0</th>\n",
       "      <th>CJT_GESAMTTYP_5.0</th>\n",
       "      <th>CJT_GESAMTTYP_6.0</th>\n",
       "      <th>FINANZTYP_1.0</th>\n",
       "      <th>FINANZTYP_2.0</th>\n",
       "      <th>FINANZTYP_3.0</th>\n",
       "      <th>FINANZTYP_4.0</th>\n",
       "      <th>...</th>\n",
       "      <th>SEMIO_TRADV</th>\n",
       "      <th>SEMIO_VERT</th>\n",
       "      <th>SOHO_KZ</th>\n",
       "      <th>UNGLEICHENN_FLAG</th>\n",
       "      <th>VERS_TYP</th>\n",
       "      <th>W_KEIT_KIND_HH</th>\n",
       "      <th>WOHNDAUER_2008</th>\n",
       "      <th>WOHNLAGE</th>\n",
       "      <th>ANREDE_KZ</th>\n",
       "      <th>ALTERSKATEGORIE_GROB</th>\n",
       "    </tr>\n",
       "  </thead>\n",
       "  <tbody>\n",
       "    <tr>\n",
       "      <th>1</th>\n",
       "      <td>0</td>\n",
       "      <td>0</td>\n",
       "      <td>0</td>\n",
       "      <td>0</td>\n",
       "      <td>0</td>\n",
       "      <td>0</td>\n",
       "      <td>0</td>\n",
       "      <td>1</td>\n",
       "      <td>0</td>\n",
       "      <td>0</td>\n",
       "      <td>...</td>\n",
       "      <td>1.0</td>\n",
       "      <td>7.0</td>\n",
       "      <td>0.0</td>\n",
       "      <td>0.0</td>\n",
       "      <td>1.0</td>\n",
       "      <td>NaN</td>\n",
       "      <td>9.0</td>\n",
       "      <td>NaN</td>\n",
       "      <td>1.0</td>\n",
       "      <td>4.0</td>\n",
       "    </tr>\n",
       "    <tr>\n",
       "      <th>2</th>\n",
       "      <td>0</td>\n",
       "      <td>1</td>\n",
       "      <td>0</td>\n",
       "      <td>0</td>\n",
       "      <td>0</td>\n",
       "      <td>0</td>\n",
       "      <td>0</td>\n",
       "      <td>1</td>\n",
       "      <td>0</td>\n",
       "      <td>0</td>\n",
       "      <td>...</td>\n",
       "      <td>1.0</td>\n",
       "      <td>3.0</td>\n",
       "      <td>0.0</td>\n",
       "      <td>0.0</td>\n",
       "      <td>2.0</td>\n",
       "      <td>6.0</td>\n",
       "      <td>9.0</td>\n",
       "      <td>2.0</td>\n",
       "      <td>2.0</td>\n",
       "      <td>4.0</td>\n",
       "    </tr>\n",
       "    <tr>\n",
       "      <th>3</th>\n",
       "      <td>0</td>\n",
       "      <td>1</td>\n",
       "      <td>0</td>\n",
       "      <td>0</td>\n",
       "      <td>0</td>\n",
       "      <td>0</td>\n",
       "      <td>0</td>\n",
       "      <td>0</td>\n",
       "      <td>0</td>\n",
       "      <td>0</td>\n",
       "      <td>...</td>\n",
       "      <td>4.0</td>\n",
       "      <td>7.0</td>\n",
       "      <td>0.0</td>\n",
       "      <td>0.0</td>\n",
       "      <td>1.0</td>\n",
       "      <td>NaN</td>\n",
       "      <td>9.0</td>\n",
       "      <td>7.0</td>\n",
       "      <td>1.0</td>\n",
       "      <td>4.0</td>\n",
       "    </tr>\n",
       "    <tr>\n",
       "      <th>4</th>\n",
       "      <td>0</td>\n",
       "      <td>0</td>\n",
       "      <td>0</td>\n",
       "      <td>0</td>\n",
       "      <td>0</td>\n",
       "      <td>1</td>\n",
       "      <td>0</td>\n",
       "      <td>1</td>\n",
       "      <td>0</td>\n",
       "      <td>0</td>\n",
       "      <td>...</td>\n",
       "      <td>4.0</td>\n",
       "      <td>5.0</td>\n",
       "      <td>0.0</td>\n",
       "      <td>0.0</td>\n",
       "      <td>2.0</td>\n",
       "      <td>2.0</td>\n",
       "      <td>9.0</td>\n",
       "      <td>3.0</td>\n",
       "      <td>1.0</td>\n",
       "      <td>3.0</td>\n",
       "    </tr>\n",
       "    <tr>\n",
       "      <th>5</th>\n",
       "      <td>0</td>\n",
       "      <td>0</td>\n",
       "      <td>0</td>\n",
       "      <td>1</td>\n",
       "      <td>0</td>\n",
       "      <td>0</td>\n",
       "      <td>0</td>\n",
       "      <td>0</td>\n",
       "      <td>0</td>\n",
       "      <td>0</td>\n",
       "      <td>...</td>\n",
       "      <td>4.0</td>\n",
       "      <td>7.0</td>\n",
       "      <td>0.0</td>\n",
       "      <td>0.0</td>\n",
       "      <td>2.0</td>\n",
       "      <td>6.0</td>\n",
       "      <td>9.0</td>\n",
       "      <td>1.0</td>\n",
       "      <td>1.0</td>\n",
       "      <td>3.0</td>\n",
       "    </tr>\n",
       "  </tbody>\n",
       "</table>\n",
       "<p>5 rows × 289 columns</p>\n",
       "</div>"
      ],
      "text/plain": [
       "   CJT_GESAMTTYP_1.0  CJT_GESAMTTYP_2.0  CJT_GESAMTTYP_3.0  CJT_GESAMTTYP_4.0  \\\n",
       "1                  0                  0                  0                  0   \n",
       "2                  0                  1                  0                  0   \n",
       "3                  0                  1                  0                  0   \n",
       "4                  0                  0                  0                  0   \n",
       "5                  0                  0                  0                  1   \n",
       "\n",
       "   CJT_GESAMTTYP_5.0  CJT_GESAMTTYP_6.0  FINANZTYP_1.0  FINANZTYP_2.0  \\\n",
       "1                  0                  0              0              1   \n",
       "2                  0                  0              0              1   \n",
       "3                  0                  0              0              0   \n",
       "4                  0                  1              0              1   \n",
       "5                  0                  0              0              0   \n",
       "\n",
       "   FINANZTYP_3.0  FINANZTYP_4.0  ...  SEMIO_TRADV  SEMIO_VERT  SOHO_KZ  \\\n",
       "1              0              0  ...          1.0         7.0      0.0   \n",
       "2              0              0  ...          1.0         3.0      0.0   \n",
       "3              0              0  ...          4.0         7.0      0.0   \n",
       "4              0              0  ...          4.0         5.0      0.0   \n",
       "5              0              0  ...          4.0         7.0      0.0   \n",
       "\n",
       "   UNGLEICHENN_FLAG  VERS_TYP  W_KEIT_KIND_HH  WOHNDAUER_2008  WOHNLAGE  \\\n",
       "1               0.0       1.0             NaN             9.0       NaN   \n",
       "2               0.0       2.0             6.0             9.0       2.0   \n",
       "3               0.0       1.0             NaN             9.0       7.0   \n",
       "4               0.0       2.0             2.0             9.0       3.0   \n",
       "5               0.0       2.0             6.0             9.0       1.0   \n",
       "\n",
       "   ANREDE_KZ  ALTERSKATEGORIE_GROB  \n",
       "1        1.0                   4.0  \n",
       "2        2.0                   4.0  \n",
       "3        1.0                   4.0  \n",
       "4        1.0                   3.0  \n",
       "5        1.0                   3.0  \n",
       "\n",
       "[5 rows x 289 columns]"
      ]
     },
     "execution_count": 55,
     "metadata": {},
     "output_type": "execute_result"
    }
   ],
   "source": [
    "customers.head()"
   ]
  },
  {
   "cell_type": "code",
   "execution_count": 56,
   "metadata": {},
   "outputs": [
    {
     "data": {
      "text/plain": [
       "(159036, 289)"
      ]
     },
     "execution_count": 56,
     "metadata": {},
     "output_type": "execute_result"
    }
   ],
   "source": [
    "customers.shape"
   ]
  },
  {
   "cell_type": "markdown",
   "metadata": {},
   "source": [
    "We note that the customers dataset has one column short (`GEBAEUDETYP_5.0`) due to the value `GEBAEUDETYP`=5 not being present in the customer dataset."
   ]
  },
  {
   "cell_type": "markdown",
   "metadata": {},
   "source": [
    "#### 2. Mixed to Numerical"
   ]
  },
  {
   "cell_type": "code",
   "execution_count": 57,
   "metadata": {},
   "outputs": [
    {
     "data": {
      "text/plain": [
       "['CAMEO_INTL_2015',\n",
       " 'LP_LEBENSPHASE_FEIN',\n",
       " 'LP_LEBENSPHASE_GROB',\n",
       " 'PRAEGENDE_JUGENDJAHRE']"
      ]
     },
     "execution_count": 57,
     "metadata": {},
     "output_type": "execute_result"
    }
   ],
   "source": [
    "mixed_features_azdias"
   ]
  },
  {
   "cell_type": "markdown",
   "metadata": {},
   "source": [
    "The DIAS Attributes - Values 2017 file shows us that columns `LP_LEBENSPHASE_FEIN` and `LP_LEBENSPHASE_GROB` can take on numerous values and thus making them quite complex compared to the other features thus these columns are dropped.\n",
    "\n",
    "On the other hand, the `PRAEGENDE_JUGENDJAHRE` column can be re-encoded into a new column which will take on either 0 or 1 as a value for each row of the dataset, with 0 refering to 'Mainstream' and 1 to ' Avantgarde' according to the original values from -1 to 15.\n",
    "\n",
    "We will also need to re-encode the `CAMEO_INTL_2015` since it actually contains 2 variables, one being the level of wealth and the other being status."
   ]
  },
  {
   "cell_type": "code",
   "execution_count": 58,
   "metadata": {},
   "outputs": [],
   "source": [
    "# Function to reencode 'PRAEGENDE_JUGENDJAHRE'\n",
    "def encode_pj(value): \n",
    "    newvalue = 0\n",
    "    if value in [2, 4, 6, 7, 9, 11, 13, 15]:\n",
    "        newvalue = 1\n",
    "    return newvalue"
   ]
  },
  {
   "cell_type": "code",
   "execution_count": 59,
   "metadata": {},
   "outputs": [],
   "source": [
    "azdias['PRAEGENDE_JUGENDJAHRE'] = azdias['PRAEGENDE_JUGENDJAHRE'].apply(lambda x: encode_pj(x))\n",
    "customers['PRAEGENDE_JUGENDJAHRE'] = customers['PRAEGENDE_JUGENDJAHRE'].apply(lambda x: encode_pj(x))"
   ]
  },
  {
   "cell_type": "code",
   "execution_count": 60,
   "metadata": {},
   "outputs": [],
   "source": [
    "azdias.drop(['LP_LEBENSPHASE_FEIN', 'LP_LEBENSPHASE_GROB'], axis=1, inplace=True)\n",
    "customers.drop(['LP_LEBENSPHASE_FEIN', 'LP_LEBENSPHASE_GROB'], axis=1, inplace=True)"
   ]
  },
  {
   "cell_type": "code",
   "execution_count": 61,
   "metadata": {},
   "outputs": [],
   "source": [
    "azdias['WEALTH_LEVEL'] = azdias['CAMEO_INTL_2015'].apply(lambda x: np.floor(pd.to_numeric(x)/10))\n",
    "azdias['STATUS'] = azdias['CAMEO_INTL_2015'].apply(lambda x: pd.to_numeric(x)%10)\n",
    "\n",
    "customers['WEALTH_LEVEL'] = customers['CAMEO_INTL_2015'].apply(lambda x: np.floor(pd.to_numeric(x)/10))\n",
    "customers['STATUS'] = customers['CAMEO_INTL_2015'].apply(lambda x: pd.to_numeric(x)%10)\n",
    "\n",
    "# drop CAMEO_INTL_2015\n",
    "azdias.drop('CAMEO_INTL_2015', axis=1, inplace=True)\n",
    "customers.drop('CAMEO_INTL_2015', axis=1, inplace=True)"
   ]
  },
  {
   "cell_type": "code",
   "execution_count": 62,
   "metadata": {},
   "outputs": [
    {
     "data": {
      "text/plain": [
       "(737288, 289)"
      ]
     },
     "execution_count": 62,
     "metadata": {},
     "output_type": "execute_result"
    }
   ],
   "source": [
    "azdias.shape"
   ]
  },
  {
   "cell_type": "code",
   "execution_count": 63,
   "metadata": {},
   "outputs": [
    {
     "data": {
      "text/plain": [
       "(159036, 288)"
      ]
     },
     "execution_count": 63,
     "metadata": {},
     "output_type": "execute_result"
    }
   ],
   "source": [
    "customers.shape"
   ]
  },
  {
   "cell_type": "markdown",
   "metadata": {},
   "source": [
    "### Impute NaN values"
   ]
  },
  {
   "cell_type": "markdown",
   "metadata": {},
   "source": [
    "We now can impute the NaN values with the median strategy."
   ]
  },
  {
   "cell_type": "code",
   "execution_count": 66,
   "metadata": {},
   "outputs": [],
   "source": [
    "imputer = SimpleImputer(missing_values=np.nan, strategy='median') \n",
    "azdias_imputed = pd.DataFrame(imputer.fit_transform(azdias))  \n",
    "customers_imputed = pd.DataFrame(imputer.fit_transform(customers))"
   ]
  },
  {
   "cell_type": "code",
   "execution_count": 67,
   "metadata": {},
   "outputs": [
    {
     "data": {
      "text/plain": [
       "(737288, 289)"
      ]
     },
     "execution_count": 67,
     "metadata": {},
     "output_type": "execute_result"
    }
   ],
   "source": [
    "azdias_imputed.shape"
   ]
  },
  {
   "cell_type": "code",
   "execution_count": 68,
   "metadata": {},
   "outputs": [
    {
     "data": {
      "text/plain": [
       "(159036, 288)"
      ]
     },
     "execution_count": 68,
     "metadata": {},
     "output_type": "execute_result"
    }
   ],
   "source": [
    "customers_imputed.shape"
   ]
  },
  {
   "cell_type": "code",
   "execution_count": 69,
   "metadata": {},
   "outputs": [
    {
     "data": {
      "text/plain": [
       "[]"
      ]
     },
     "execution_count": 69,
     "metadata": {},
     "output_type": "execute_result"
    }
   ],
   "source": [
    "list(set(customers_imputed)-set(azdias_imputed))"
   ]
  },
  {
   "cell_type": "markdown",
   "metadata": {},
   "source": [
    "### Scale features"
   ]
  },
  {
   "cell_type": "code",
   "execution_count": 70,
   "metadata": {},
   "outputs": [],
   "source": [
    "scaler = StandardScaler()\n",
    "azdias_scaled = pd.DataFrame(scaler.fit_transform(azdias_imputed))\n",
    "customers_scaled = pd.DataFrame(scaler.fit_transform(customers_imputed))"
   ]
  },
  {
   "cell_type": "code",
   "execution_count": 71,
   "metadata": {},
   "outputs": [
    {
     "data": {
      "text/plain": [
       "(737288, 289)"
      ]
     },
     "execution_count": 71,
     "metadata": {},
     "output_type": "execute_result"
    }
   ],
   "source": [
    "azdias_scaled.shape"
   ]
  },
  {
   "cell_type": "code",
   "execution_count": 72,
   "metadata": {},
   "outputs": [
    {
     "data": {
      "text/plain": [
       "(159036, 288)"
      ]
     },
     "execution_count": 72,
     "metadata": {},
     "output_type": "execute_result"
    }
   ],
   "source": [
    "customers_scaled.shape"
   ]
  },
  {
   "cell_type": "markdown",
   "metadata": {},
   "source": [
    "## Part 1: Customer Segmentation Report\n",
    "\n",
    "The main bulk of your analysis will come in this part of the project. Here, you should use unsupervised learning techniques to describe the relationship between the demographics of the company's existing customers and the general population of Germany. By the end of this part, you should be able to describe parts of the general population that are more likely to be part of the mail-order company's main customer base, and which parts of the general population are less so."
   ]
  },
  {
   "cell_type": "markdown",
   "metadata": {},
   "source": [
    "### Principal Component Analysis for Dimensionality Reduction"
   ]
  },
  {
   "cell_type": "markdown",
   "metadata": {},
   "source": [
    "We will now employ Principal Component Analysis or PCA for short. We use PCA to reduce the number of features while retaining the “principal components” which are linear combinations of existing features.\n",
    "\n",
    "Components are supposed to be linearly independent, and they account for variabilities in the data.\n",
    "\n",
    "We will first use Scree plot in order to decide the ideal number of components."
   ]
  },
  {
   "cell_type": "code",
   "execution_count": 75,
   "metadata": {},
   "outputs": [
    {
     "data": {
      "image/png": "[encoded data removed]",
      "text/plain": [
       "<Figure size 432x288 with 1 Axes>"
      ]
     },
     "metadata": {
      "needs_background": "light"
     },
     "output_type": "display_data"
    }
   ],
   "source": [
    "#Scree Azdias\n",
    "\n",
    "pca = PCA()\n",
    "azdias_pca = pca.fit_transform(azdias_scaled)\n",
    "\n",
    "plt.plot(np.cumsum(pca.explained_variance_ratio_))\n",
    "plt.title('Explained Variance by Each Principal Component - Scree plot (AZDIAS)')\n",
    "plt.xlabel('Number of Components')\n",
    "plt.ylabel('Cumulative Explained Variance')\n",
    "\n",
    "plt.show()"
   ]
  },
  {
   "cell_type": "code",
   "execution_count": 76,
   "metadata": {},
   "outputs": [
    {
     "data": {
      "image/png": "[encoded data removed]",
      "text/plain": [
       "<Figure size 432x288 with 1 Axes>"
      ]
     },
     "metadata": {
      "needs_background": "light"
     },
     "output_type": "display_data"
    }
   ],
   "source": [
    "#Scree Customers\n",
    "\n",
    "customers_pca = pca.fit_transform(customers_scaled)\n",
    "\n",
    "plt.plot(np.cumsum(pca.explained_variance_ratio_))\n",
    "plt.title('Explained Variance by Each Principal Component - Scree plot (Customers)')\n",
    "plt.xlabel('Number of Components')\n",
    "plt.ylabel('Cumulative Explained Variance')\n",
    "\n",
    "plt.show()"
   ]
  },
  {
   "cell_type": "markdown",
   "metadata": {},
   "source": [
    "We need to choose the number of components/features we want to keep after PCA.\n",
    "\n",
    "The tradeoff involved is that we need a number of component that is high enough to represent the variabilities of the data, but not too high so that our model is somewhat simpler. Additionally, as we can see from the plots, the curves became less steep after a certain point, or in other words, incremental explained variance does not increase by much with additional components. \n",
    "\n",
    "Therefore, judging from the plots, 150 components seems to be the ideal number for both datasets."
   ]
  },
  {
   "cell_type": "code",
   "execution_count": 77,
   "metadata": {},
   "outputs": [],
   "source": [
    "def pca_150(df, n=150):\n",
    "    pca = PCA(n_components=n)\n",
    "    reduced_df = pca.fit_transform(df)\n",
    "    reduced_df = pd.DataFrame(reduced_df)\n",
    "    print('The variance in the data explained by the principal components after employing PCA is equal to ' + str(pca.explained_variance_ratio_.sum())) \n",
    "    return reduced_df"
   ]
  },
  {
   "cell_type": "code",
   "execution_count": 78,
   "metadata": {},
   "outputs": [
    {
     "name": "stdout",
     "output_type": "stream",
     "text": [
      "The variance in the data explained by the principal components after employing PCA is equal to 0.9094487343051892\n",
      "The variance in the data explained by the principal components after employing PCA is equal to 0.9094111973049335\n"
     ]
    }
   ],
   "source": [
    "reduced_azdias = pca_150(azdias_scaled, n=150)\n",
    "reduced_customers = pca_150(customers_scaled, n=150)"
   ]
  },
  {
   "cell_type": "code",
   "execution_count": 79,
   "metadata": {},
   "outputs": [
    {
     "data": {
      "text/plain": [
       "(737288, 150)"
      ]
     },
     "execution_count": 79,
     "metadata": {},
     "output_type": "execute_result"
    }
   ],
   "source": [
    "reduced_azdias.shape"
   ]
  },
  {
   "cell_type": "code",
   "execution_count": 80,
   "metadata": {},
   "outputs": [
    {
     "data": {
      "text/plain": [
       "(159036, 150)"
      ]
     },
     "execution_count": 80,
     "metadata": {},
     "output_type": "execute_result"
    }
   ],
   "source": [
    "reduced_customers.shape"
   ]
  },
  {
   "cell_type": "markdown",
   "metadata": {},
   "source": [
    "### Clustering with k-Means"
   ]
  },
  {
   "cell_type": "markdown",
   "metadata": {},
   "source": [
    "First, we utilize elbow method in order to find the ideal number of clusters by plotting the explained variation as a function of the number of clusters, and picking the elbow of the curve as the number of clusters to use."
   ]
  },
  {
   "cell_type": "code",
   "execution_count": 81,
   "metadata": {},
   "outputs": [],
   "source": [
    "def apply_kmeans(data, k):        \n",
    "    kmeans = KMeans(n_clusters=k)\n",
    "    model = kmeans.fit(data)\n",
    "    return abs(model.score(data))"
   ]
  },
  {
   "cell_type": "code",
   "execution_count": 82,
   "metadata": {},
   "outputs": [
    {
     "data": {
      "image/png": "[encoded data removed]",
      "text/plain": [
       "<Figure size 432x288 with 1 Axes>"
      ]
     },
     "metadata": {
      "needs_background": "light"
     },
     "output_type": "display_data"
    }
   ],
   "source": [
    "distances = []\n",
    "possible_clusters = list(range(1,16))\n",
    "\n",
    "for k in possible_clusters:\n",
    "    distances.append(apply_kmeans(reduced_azdias.sample(20000), k))\n",
    "    \n",
    "plt.plot(possible_clusters, distances, linestyle='-', marker='x', color='blue')\n",
    "plt.xticks(ticks=possible_clusters)\n",
    "plt.xlabel('Number of clusters')\n",
    "plt.ylabel('Average distance to centroid (within-cluster distance)')\n",
    "plt.title('The Elbow Method - Azdias')\n",
    "plt.show()"
   ]
  },
  {
   "cell_type": "code",
   "execution_count": 83,
   "metadata": {},
   "outputs": [
    {
     "data": {
      "image/png": "[encoded data removed]",
      "text/plain": [
       "<Figure size 432x288 with 1 Axes>"
      ]
     },
     "metadata": {
      "needs_background": "light"
     },
     "output_type": "display_data"
    }
   ],
   "source": [
    "distances = []\n",
    "possible_clusters = list(range(1,16))\n",
    "\n",
    "for k in possible_clusters:\n",
    "    distances.append(apply_kmeans(reduced_customers.sample(20000), k))\n",
    "    \n",
    "plt.plot(possible_clusters, distances, linestyle='-', marker='x', color='blue')\n",
    "plt.xticks(ticks=possible_clusters)\n",
    "plt.xlabel('Number of clusters')\n",
    "plt.ylabel('Average distance to centroid (within-cluster distance)')\n",
    "plt.title('The Elbow Method - Customers')\n",
    "plt.show()"
   ]
  },
  {
   "cell_type": "markdown",
   "metadata": {},
   "source": [
    "From the two plots above, we can see that the elbow is located somewhere around 9-12. Thus, we pick 11 to be the ideal number of clusters."
   ]
  },
  {
   "cell_type": "code",
   "execution_count": 84,
   "metadata": {},
   "outputs": [],
   "source": [
    "chosen_number_of_clusters = 11\n",
    "kmeans = KMeans(n_clusters=chosen_number_of_clusters, random_state=101)"
   ]
  },
  {
   "cell_type": "code",
   "execution_count": 85,
   "metadata": {},
   "outputs": [],
   "source": [
    "# Azdias - general population clustering\n",
    "\n",
    "azdias_preds = kmeans.fit_predict(reduced_azdias)\n",
    "azdias_clustered = pd.DataFrame(azdias_preds, columns = ['Cluster'])"
   ]
  },
  {
   "cell_type": "code",
   "execution_count": 86,
   "metadata": {},
   "outputs": [],
   "source": [
    "# Customers - customer base clustering\n",
    "\n",
    "customers_preds = kmeans.fit_predict(reduced_customers)\n",
    "customers_clustered = pd.DataFrame(customers_preds, columns = ['Cluster'])"
   ]
  },
  {
   "cell_type": "code",
   "execution_count": 87,
   "metadata": {},
   "outputs": [],
   "source": [
    "azdias_clustered.to_pickle('azdias.pkl')"
   ]
  },
  {
   "cell_type": "code",
   "execution_count": 88,
   "metadata": {},
   "outputs": [],
   "source": [
    "customers_clustered.to_pickle('customers.pkl')"
   ]
  },
  {
   "cell_type": "markdown",
   "metadata": {},
   "source": [
    "### Compare % of each clusters"
   ]
  },
  {
   "cell_type": "code",
   "execution_count": 89,
   "metadata": {},
   "outputs": [],
   "source": [
    "# Get cluster sizes for both datasets\n",
    "azdias_clusters = pd.Series(azdias_preds)\n",
    "num_pc = azdias_clusters.value_counts().sort_index()\n",
    "\n",
    "customers_clusters = pd.Series(customers_preds)\n",
    "num_cc = customers_clusters.value_counts().sort_index()"
   ]
  },
  {
   "cell_type": "code",
   "execution_count": 90,
   "metadata": {},
   "outputs": [],
   "source": [
    "# Calculate % of each clusters\n",
    "summary_df = pd.concat([num_pc, num_cc], axis=1).reset_index()\n",
    "summary_df.columns = ['Cluster #','General Population','Customer Base']\n",
    "\n",
    "summary_df['Perct of Total General Pop'] = ( summary_df['General Population'] / (summary_df['General Population'].sum()) * 100 ).round(2)\n",
    "summary_df['Perct of Total Customer Base'] = ( summary_df['Customer Base'] / (summary_df['Customer Base'].sum()) * 100 ).round(2)                                                                                                                                                                                                                                                                                                                                                                                                                                                                                            "
   ]
  },
  {
   "cell_type": "code",
   "execution_count": 91,
   "metadata": {},
   "outputs": [
    {
     "data": {
      "image/png": "[encoded data removed]",
      "text/plain": [
       "<Figure size 864x360 with 1 Axes>"
      ]
     },
     "metadata": {
      "needs_background": "light"
     },
     "output_type": "display_data"
    }
   ],
   "source": [
    "fig = plt.figure(figsize=(12,5))\n",
    "\n",
    "ax = fig.add_subplot(111)\n",
    "\n",
    "ax = summary_df['Perct of Total General Pop'].plot(x=summary_df['Cluster #'], width=-0.3, align='edge', color='orange', kind='bar', position=0)\n",
    "ax = summary_df['Perct of Total Customer Base'].plot(kind='bar', color='green', width = 0.3, align='edge', position=1)\n",
    "\n",
    "ax.set_xlabel('Clusters No.', fontsize=15) \n",
    "ax.set_ylabel('Genpop (yellow) vs Customers (green)', fontsize=15)\n",
    "\n",
    "ax.xaxis.set(ticklabels=range(11))\n",
    "ax.tick_params(axis = 'x', which = 'major', labelsize = 13)\n",
    "ax.margins(x=0.5,y=0.1)\n",
    "\n",
    "plt.legend(('General Population (AZDIAS)', 'Customer Base (CUSTOMERS)'), fontsize=15)\n",
    "plt.title(('% of General Population & Customer Base In Each Cluster'))\n",
    "\n",
    "plt.show()"
   ]
  },
  {
   "cell_type": "markdown",
   "metadata": {},
   "source": [
    "As seen above, clusters 2, 4, and 9 are the most underrepresented in the customer base, while on the other hand, clusters 1 and 5 are overrepresented."
   ]
  },
  {
   "cell_type": "markdown",
   "metadata": {},
   "source": [
    "## Part 2: Supervised Learning Model\n",
    "\n",
    "Now that you've found which parts of the population are more likely to be customers of the mail-order company, it's time to build a prediction model. Each of the rows in the \"MAILOUT\" data files represents an individual that was targeted for a mailout campaign. Ideally, we should be able to use the demographic information from each individual to decide whether or not it will be worth it to include that person in the campaign.\n",
    "\n",
    "The \"MAILOUT\" data has been split into two approximately equal parts, each with almost 43 000 data rows. In this part, you can verify your model with the \"TRAIN\" partition, which includes a column, \"RESPONSE\", that states whether or not a person became a customer of the company following the campaign. In the next part, you'll need to create predictions on the \"TEST\" partition, where the \"RESPONSE\" column has been withheld."
   ]
  },
  {
   "cell_type": "code",
   "execution_count": 92,
   "metadata": {},
   "outputs": [],
   "source": [
    "mailout_train = pd.read_csv('train.csv', index_col=0)"
   ]
  },
  {
   "cell_type": "code",
   "execution_count": 93,
   "metadata": {},
   "outputs": [
    {
     "data": {
      "text/html": [
       "<div>\n",
       "<style scoped>\n",
       "    .dataframe tbody tr th:only-of-type {\n",
       "        vertical-align: middle;\n",
       "    }\n",
       "\n",
       "    .dataframe tbody tr th {\n",
       "        vertical-align: top;\n",
       "    }\n",
       "\n",
       "    .dataframe thead th {\n",
       "        text-align: right;\n",
       "    }\n",
       "</style>\n",
       "<table border=\"1\" class=\"dataframe\">\n",
       "  <thead>\n",
       "    <tr style=\"text-align: right;\">\n",
       "      <th></th>\n",
       "      <th>LNR</th>\n",
       "      <th>AGER_TYP</th>\n",
       "      <th>AKT_DAT_KL</th>\n",
       "      <th>ALTER_HH</th>\n",
       "      <th>ALTER_KIND1</th>\n",
       "      <th>ALTER_KIND2</th>\n",
       "      <th>ALTER_KIND3</th>\n",
       "      <th>ALTER_KIND4</th>\n",
       "      <th>ALTERSKATEGORIE_FEIN</th>\n",
       "      <th>ANZ_HAUSHALTE_AKTIV</th>\n",
       "      <th>...</th>\n",
       "      <th>VK_DHT4A</th>\n",
       "      <th>VK_DISTANZ</th>\n",
       "      <th>VK_ZG11</th>\n",
       "      <th>W_KEIT_KIND_HH</th>\n",
       "      <th>WOHNDAUER_2008</th>\n",
       "      <th>WOHNLAGE</th>\n",
       "      <th>ZABEOTYP</th>\n",
       "      <th>RESPONSE</th>\n",
       "      <th>ANREDE_KZ</th>\n",
       "      <th>ALTERSKATEGORIE_GROB</th>\n",
       "    </tr>\n",
       "  </thead>\n",
       "  <tbody>\n",
       "    <tr>\n",
       "      <th>0</th>\n",
       "      <td>1763</td>\n",
       "      <td>2</td>\n",
       "      <td>1.0</td>\n",
       "      <td>8.0</td>\n",
       "      <td>NaN</td>\n",
       "      <td>NaN</td>\n",
       "      <td>NaN</td>\n",
       "      <td>NaN</td>\n",
       "      <td>8.0</td>\n",
       "      <td>15.0</td>\n",
       "      <td>...</td>\n",
       "      <td>5.0</td>\n",
       "      <td>2.0</td>\n",
       "      <td>1.0</td>\n",
       "      <td>6.0</td>\n",
       "      <td>9.0</td>\n",
       "      <td>3.0</td>\n",
       "      <td>3</td>\n",
       "      <td>0</td>\n",
       "      <td>2</td>\n",
       "      <td>4</td>\n",
       "    </tr>\n",
       "    <tr>\n",
       "      <th>1</th>\n",
       "      <td>1771</td>\n",
       "      <td>1</td>\n",
       "      <td>4.0</td>\n",
       "      <td>13.0</td>\n",
       "      <td>NaN</td>\n",
       "      <td>NaN</td>\n",
       "      <td>NaN</td>\n",
       "      <td>NaN</td>\n",
       "      <td>13.0</td>\n",
       "      <td>1.0</td>\n",
       "      <td>...</td>\n",
       "      <td>1.0</td>\n",
       "      <td>2.0</td>\n",
       "      <td>1.0</td>\n",
       "      <td>4.0</td>\n",
       "      <td>9.0</td>\n",
       "      <td>7.0</td>\n",
       "      <td>1</td>\n",
       "      <td>0</td>\n",
       "      <td>2</td>\n",
       "      <td>3</td>\n",
       "    </tr>\n",
       "    <tr>\n",
       "      <th>2</th>\n",
       "      <td>1776</td>\n",
       "      <td>1</td>\n",
       "      <td>1.0</td>\n",
       "      <td>9.0</td>\n",
       "      <td>NaN</td>\n",
       "      <td>NaN</td>\n",
       "      <td>NaN</td>\n",
       "      <td>NaN</td>\n",
       "      <td>7.0</td>\n",
       "      <td>0.0</td>\n",
       "      <td>...</td>\n",
       "      <td>6.0</td>\n",
       "      <td>4.0</td>\n",
       "      <td>2.0</td>\n",
       "      <td>NaN</td>\n",
       "      <td>9.0</td>\n",
       "      <td>2.0</td>\n",
       "      <td>3</td>\n",
       "      <td>0</td>\n",
       "      <td>1</td>\n",
       "      <td>4</td>\n",
       "    </tr>\n",
       "    <tr>\n",
       "      <th>3</th>\n",
       "      <td>1460</td>\n",
       "      <td>2</td>\n",
       "      <td>1.0</td>\n",
       "      <td>6.0</td>\n",
       "      <td>NaN</td>\n",
       "      <td>NaN</td>\n",
       "      <td>NaN</td>\n",
       "      <td>NaN</td>\n",
       "      <td>6.0</td>\n",
       "      <td>4.0</td>\n",
       "      <td>...</td>\n",
       "      <td>8.0</td>\n",
       "      <td>11.0</td>\n",
       "      <td>11.0</td>\n",
       "      <td>6.0</td>\n",
       "      <td>9.0</td>\n",
       "      <td>1.0</td>\n",
       "      <td>3</td>\n",
       "      <td>0</td>\n",
       "      <td>2</td>\n",
       "      <td>4</td>\n",
       "    </tr>\n",
       "    <tr>\n",
       "      <th>4</th>\n",
       "      <td>1783</td>\n",
       "      <td>2</td>\n",
       "      <td>1.0</td>\n",
       "      <td>9.0</td>\n",
       "      <td>NaN</td>\n",
       "      <td>NaN</td>\n",
       "      <td>NaN</td>\n",
       "      <td>NaN</td>\n",
       "      <td>9.0</td>\n",
       "      <td>53.0</td>\n",
       "      <td>...</td>\n",
       "      <td>2.0</td>\n",
       "      <td>2.0</td>\n",
       "      <td>1.0</td>\n",
       "      <td>6.0</td>\n",
       "      <td>9.0</td>\n",
       "      <td>3.0</td>\n",
       "      <td>3</td>\n",
       "      <td>0</td>\n",
       "      <td>1</td>\n",
       "      <td>3</td>\n",
       "    </tr>\n",
       "  </tbody>\n",
       "</table>\n",
       "<p>5 rows × 367 columns</p>\n",
       "</div>"
      ],
      "text/plain": [
       "    LNR  AGER_TYP  AKT_DAT_KL  ALTER_HH  ALTER_KIND1  ALTER_KIND2  \\\n",
       "0  1763         2         1.0       8.0          NaN          NaN   \n",
       "1  1771         1         4.0      13.0          NaN          NaN   \n",
       "2  1776         1         1.0       9.0          NaN          NaN   \n",
       "3  1460         2         1.0       6.0          NaN          NaN   \n",
       "4  1783         2         1.0       9.0          NaN          NaN   \n",
       "\n",
       "   ALTER_KIND3  ALTER_KIND4  ALTERSKATEGORIE_FEIN  ANZ_HAUSHALTE_AKTIV  ...  \\\n",
       "0          NaN          NaN                   8.0                 15.0  ...   \n",
       "1          NaN          NaN                  13.0                  1.0  ...   \n",
       "2          NaN          NaN                   7.0                  0.0  ...   \n",
       "3          NaN          NaN                   6.0                  4.0  ...   \n",
       "4          NaN          NaN                   9.0                 53.0  ...   \n",
       "\n",
       "   VK_DHT4A  VK_DISTANZ  VK_ZG11  W_KEIT_KIND_HH  WOHNDAUER_2008  WOHNLAGE  \\\n",
       "0       5.0         2.0      1.0             6.0             9.0       3.0   \n",
       "1       1.0         2.0      1.0             4.0             9.0       7.0   \n",
       "2       6.0         4.0      2.0             NaN             9.0       2.0   \n",
       "3       8.0        11.0     11.0             6.0             9.0       1.0   \n",
       "4       2.0         2.0      1.0             6.0             9.0       3.0   \n",
       "\n",
       "   ZABEOTYP RESPONSE ANREDE_KZ ALTERSKATEGORIE_GROB  \n",
       "0         3        0         2                    4  \n",
       "1         1        0         2                    3  \n",
       "2         3        0         1                    4  \n",
       "3         3        0         2                    4  \n",
       "4         3        0         1                    3  \n",
       "\n",
       "[5 rows x 367 columns]"
      ]
     },
     "execution_count": 93,
     "metadata": {},
     "output_type": "execute_result"
    }
   ],
   "source": [
    "mailout_train.head()"
   ]
  },
  {
   "cell_type": "code",
   "execution_count": 94,
   "metadata": {},
   "outputs": [
    {
     "data": {
      "text/plain": [
       "(42962, 367)"
      ]
     },
     "execution_count": 94,
     "metadata": {},
     "output_type": "execute_result"
    }
   ],
   "source": [
    "mailout_train.shape"
   ]
  },
  {
   "cell_type": "code",
   "execution_count": 95,
   "metadata": {},
   "outputs": [],
   "source": [
    "mailout_train_LNR = mailout_train['LNR']"
   ]
  },
  {
   "cell_type": "code",
   "execution_count": 96,
   "metadata": {},
   "outputs": [
    {
     "data": {
      "text/html": [
       "<div>\n",
       "<style scoped>\n",
       "    .dataframe tbody tr th:only-of-type {\n",
       "        vertical-align: middle;\n",
       "    }\n",
       "\n",
       "    .dataframe tbody tr th {\n",
       "        vertical-align: top;\n",
       "    }\n",
       "\n",
       "    .dataframe thead th {\n",
       "        text-align: right;\n",
       "    }\n",
       "</style>\n",
       "<table border=\"1\" class=\"dataframe\">\n",
       "  <thead>\n",
       "    <tr style=\"text-align: right;\">\n",
       "      <th></th>\n",
       "      <th>AGER_TYP</th>\n",
       "      <th>AKT_DAT_KL</th>\n",
       "      <th>ALTERSKATEGORIE_FEIN</th>\n",
       "      <th>ALTERSKATEGORIE_GROB</th>\n",
       "      <th>ALTER_HH</th>\n",
       "      <th>ALTER_KIND1</th>\n",
       "      <th>ALTER_KIND2</th>\n",
       "      <th>ALTER_KIND3</th>\n",
       "      <th>ALTER_KIND4</th>\n",
       "      <th>ANREDE_KZ</th>\n",
       "      <th>...</th>\n",
       "      <th>VERS_TYP</th>\n",
       "      <th>VHA</th>\n",
       "      <th>VHN</th>\n",
       "      <th>VK_DHT4A</th>\n",
       "      <th>VK_DISTANZ</th>\n",
       "      <th>VK_ZG11</th>\n",
       "      <th>WOHNDAUER_2008</th>\n",
       "      <th>WOHNLAGE</th>\n",
       "      <th>W_KEIT_KIND_HH</th>\n",
       "      <th>ZABEOTYP</th>\n",
       "    </tr>\n",
       "    <tr>\n",
       "      <th>RESPONSE</th>\n",
       "      <th></th>\n",
       "      <th></th>\n",
       "      <th></th>\n",
       "      <th></th>\n",
       "      <th></th>\n",
       "      <th></th>\n",
       "      <th></th>\n",
       "      <th></th>\n",
       "      <th></th>\n",
       "      <th></th>\n",
       "      <th></th>\n",
       "      <th></th>\n",
       "      <th></th>\n",
       "      <th></th>\n",
       "      <th></th>\n",
       "      <th></th>\n",
       "      <th></th>\n",
       "      <th></th>\n",
       "      <th></th>\n",
       "      <th></th>\n",
       "      <th></th>\n",
       "    </tr>\n",
       "  </thead>\n",
       "  <tbody>\n",
       "    <tr>\n",
       "      <th>0</th>\n",
       "      <td>42430</td>\n",
       "      <td>35544</td>\n",
       "      <td>34372</td>\n",
       "      <td>42430</td>\n",
       "      <td>35544</td>\n",
       "      <td>1967</td>\n",
       "      <td>746</td>\n",
       "      <td>170</td>\n",
       "      <td>40</td>\n",
       "      <td>42430</td>\n",
       "      <td>...</td>\n",
       "      <td>42430</td>\n",
       "      <td>35544</td>\n",
       "      <td>34088</td>\n",
       "      <td>35249</td>\n",
       "      <td>35249</td>\n",
       "      <td>35249</td>\n",
       "      <td>35544</td>\n",
       "      <td>34746</td>\n",
       "      <td>32853</td>\n",
       "      <td>42430</td>\n",
       "    </tr>\n",
       "    <tr>\n",
       "      <th>1</th>\n",
       "      <td>532</td>\n",
       "      <td>449</td>\n",
       "      <td>435</td>\n",
       "      <td>532</td>\n",
       "      <td>449</td>\n",
       "      <td>21</td>\n",
       "      <td>10</td>\n",
       "      <td>4</td>\n",
       "      <td>1</td>\n",
       "      <td>532</td>\n",
       "      <td>...</td>\n",
       "      <td>532</td>\n",
       "      <td>449</td>\n",
       "      <td>429</td>\n",
       "      <td>446</td>\n",
       "      <td>446</td>\n",
       "      <td>446</td>\n",
       "      <td>449</td>\n",
       "      <td>439</td>\n",
       "      <td>431</td>\n",
       "      <td>532</td>\n",
       "    </tr>\n",
       "  </tbody>\n",
       "</table>\n",
       "<p>2 rows × 366 columns</p>\n",
       "</div>"
      ],
      "text/plain": [
       "          AGER_TYP  AKT_DAT_KL  ALTERSKATEGORIE_FEIN  ALTERSKATEGORIE_GROB  \\\n",
       "RESPONSE                                                                     \n",
       "0            42430       35544                 34372                 42430   \n",
       "1              532         449                   435                   532   \n",
       "\n",
       "          ALTER_HH  ALTER_KIND1  ALTER_KIND2  ALTER_KIND3  ALTER_KIND4  \\\n",
       "RESPONSE                                                                 \n",
       "0            35544         1967          746          170           40   \n",
       "1              449           21           10            4            1   \n",
       "\n",
       "          ANREDE_KZ  ...  VERS_TYP    VHA    VHN  VK_DHT4A  VK_DISTANZ  \\\n",
       "RESPONSE             ...                                                 \n",
       "0             42430  ...     42430  35544  34088     35249       35249   \n",
       "1               532  ...       532    449    429       446         446   \n",
       "\n",
       "          VK_ZG11  WOHNDAUER_2008  WOHNLAGE  W_KEIT_KIND_HH  ZABEOTYP  \n",
       "RESPONSE                                                               \n",
       "0           35249           35544     34746           32853     42430  \n",
       "1             446             449       439             431       532  \n",
       "\n",
       "[2 rows x 366 columns]"
      ]
     },
     "execution_count": 96,
     "metadata": {},
     "output_type": "execute_result"
    }
   ],
   "source": [
    "pd.pivot_table(mailout_train, index='RESPONSE', aggfunc='count')"
   ]
  },
  {
   "cell_type": "markdown",
   "metadata": {},
   "source": [
    "As seen above, there is an imbalance between responses zero and one (non-customer and customer, respetively). We will resample the customers and balance the data."
   ]
  },
  {
   "cell_type": "code",
   "execution_count": 97,
   "metadata": {},
   "outputs": [],
   "source": [
    "Yes_Customer = mailout_train[mailout_train['RESPONSE']==1] \n",
    "No_Customer = mailout_train[mailout_train['RESPONSE']==0]\n",
    "\n",
    "Yes_Customer_balanced = resample(Yes_Customer, replace=True, n_samples=42430, random_state=1) \n",
    "\n",
    "mailout_train_balanced = pd.concat([No_Customer, Yes_Customer_balanced])"
   ]
  },
  {
   "cell_type": "code",
   "execution_count": 98,
   "metadata": {},
   "outputs": [
    {
     "data": {
      "text/html": [
       "<div>\n",
       "<style scoped>\n",
       "    .dataframe tbody tr th:only-of-type {\n",
       "        vertical-align: middle;\n",
       "    }\n",
       "\n",
       "    .dataframe tbody tr th {\n",
       "        vertical-align: top;\n",
       "    }\n",
       "\n",
       "    .dataframe thead th {\n",
       "        text-align: right;\n",
       "    }\n",
       "</style>\n",
       "<table border=\"1\" class=\"dataframe\">\n",
       "  <thead>\n",
       "    <tr style=\"text-align: right;\">\n",
       "      <th></th>\n",
       "      <th>AGER_TYP</th>\n",
       "      <th>AKT_DAT_KL</th>\n",
       "      <th>ALTERSKATEGORIE_FEIN</th>\n",
       "      <th>ALTERSKATEGORIE_GROB</th>\n",
       "      <th>ALTER_HH</th>\n",
       "      <th>ALTER_KIND1</th>\n",
       "      <th>ALTER_KIND2</th>\n",
       "      <th>ALTER_KIND3</th>\n",
       "      <th>ALTER_KIND4</th>\n",
       "      <th>ANREDE_KZ</th>\n",
       "      <th>...</th>\n",
       "      <th>VERS_TYP</th>\n",
       "      <th>VHA</th>\n",
       "      <th>VHN</th>\n",
       "      <th>VK_DHT4A</th>\n",
       "      <th>VK_DISTANZ</th>\n",
       "      <th>VK_ZG11</th>\n",
       "      <th>WOHNDAUER_2008</th>\n",
       "      <th>WOHNLAGE</th>\n",
       "      <th>W_KEIT_KIND_HH</th>\n",
       "      <th>ZABEOTYP</th>\n",
       "    </tr>\n",
       "    <tr>\n",
       "      <th>RESPONSE</th>\n",
       "      <th></th>\n",
       "      <th></th>\n",
       "      <th></th>\n",
       "      <th></th>\n",
       "      <th></th>\n",
       "      <th></th>\n",
       "      <th></th>\n",
       "      <th></th>\n",
       "      <th></th>\n",
       "      <th></th>\n",
       "      <th></th>\n",
       "      <th></th>\n",
       "      <th></th>\n",
       "      <th></th>\n",
       "      <th></th>\n",
       "      <th></th>\n",
       "      <th></th>\n",
       "      <th></th>\n",
       "      <th></th>\n",
       "      <th></th>\n",
       "      <th></th>\n",
       "    </tr>\n",
       "  </thead>\n",
       "  <tbody>\n",
       "    <tr>\n",
       "      <th>0</th>\n",
       "      <td>42430</td>\n",
       "      <td>35544</td>\n",
       "      <td>34372</td>\n",
       "      <td>42430</td>\n",
       "      <td>35544</td>\n",
       "      <td>1967</td>\n",
       "      <td>746</td>\n",
       "      <td>170</td>\n",
       "      <td>40</td>\n",
       "      <td>42430</td>\n",
       "      <td>...</td>\n",
       "      <td>42430</td>\n",
       "      <td>35544</td>\n",
       "      <td>34088</td>\n",
       "      <td>35249</td>\n",
       "      <td>35249</td>\n",
       "      <td>35249</td>\n",
       "      <td>35544</td>\n",
       "      <td>34746</td>\n",
       "      <td>32853</td>\n",
       "      <td>42430</td>\n",
       "    </tr>\n",
       "    <tr>\n",
       "      <th>1</th>\n",
       "      <td>42430</td>\n",
       "      <td>35812</td>\n",
       "      <td>34605</td>\n",
       "      <td>42430</td>\n",
       "      <td>35812</td>\n",
       "      <td>1729</td>\n",
       "      <td>797</td>\n",
       "      <td>323</td>\n",
       "      <td>80</td>\n",
       "      <td>42430</td>\n",
       "      <td>...</td>\n",
       "      <td>42430</td>\n",
       "      <td>35812</td>\n",
       "      <td>34224</td>\n",
       "      <td>35565</td>\n",
       "      <td>35565</td>\n",
       "      <td>35565</td>\n",
       "      <td>35812</td>\n",
       "      <td>34976</td>\n",
       "      <td>34385</td>\n",
       "      <td>42430</td>\n",
       "    </tr>\n",
       "  </tbody>\n",
       "</table>\n",
       "<p>2 rows × 366 columns</p>\n",
       "</div>"
      ],
      "text/plain": [
       "          AGER_TYP  AKT_DAT_KL  ALTERSKATEGORIE_FEIN  ALTERSKATEGORIE_GROB  \\\n",
       "RESPONSE                                                                     \n",
       "0            42430       35544                 34372                 42430   \n",
       "1            42430       35812                 34605                 42430   \n",
       "\n",
       "          ALTER_HH  ALTER_KIND1  ALTER_KIND2  ALTER_KIND3  ALTER_KIND4  \\\n",
       "RESPONSE                                                                 \n",
       "0            35544         1967          746          170           40   \n",
       "1            35812         1729          797          323           80   \n",
       "\n",
       "          ANREDE_KZ  ...  VERS_TYP    VHA    VHN  VK_DHT4A  VK_DISTANZ  \\\n",
       "RESPONSE             ...                                                 \n",
       "0             42430  ...     42430  35544  34088     35249       35249   \n",
       "1             42430  ...     42430  35812  34224     35565       35565   \n",
       "\n",
       "          VK_ZG11  WOHNDAUER_2008  WOHNLAGE  W_KEIT_KIND_HH  ZABEOTYP  \n",
       "RESPONSE                                                               \n",
       "0           35249           35544     34746           32853     42430  \n",
       "1           35565           35812     34976           34385     42430  \n",
       "\n",
       "[2 rows x 366 columns]"
      ]
     },
     "execution_count": 98,
     "metadata": {},
     "output_type": "execute_result"
    }
   ],
   "source": [
    "pd.pivot_table(mailout_train_balanced, index='RESPONSE', aggfunc='count')"
   ]
  },
  {
   "cell_type": "code",
   "execution_count": 99,
   "metadata": {},
   "outputs": [],
   "source": [
    "# Separate and drop labels\n",
    "train_y_label = mailout_train_balanced['RESPONSE']\n",
    "mailout_train_balanced.drop(labels=['RESPONSE'], axis=1, inplace=True)"
   ]
  },
  {
   "cell_type": "code",
   "execution_count": 100,
   "metadata": {},
   "outputs": [],
   "source": [
    "# Combine all cleaning processes done on azdias and customers earlier to one function, for ease\n",
    "\n",
    "def cleaning_function(df, attributes, to_drop_nonexistent, columns_to_drop_missing, nan_threshold=0.2):\n",
    "\n",
    "    # drop features nonexistent \n",
    "    df.drop(labels=to_drop_nonexistent, axis=1, inplace=True)\n",
    "    \n",
    "    print('after drop features not described' + str(df.shape))\n",
    "    \n",
    "    for column in df.columns:\n",
    "        if df[column].dtype == np.int64:\n",
    "            df[column] = df[column].astype(np.float64)\n",
    "    \n",
    "        \n",
    "    unknown_series = pd.Series(attributes['Missing Values'].values, index=attributes['Attributes'])\n",
    "\n",
    "    # convert missing values to NaN\n",
    "    for column in df.columns:\n",
    "        isin = ast.literal_eval(unknown_series[column])\n",
    "        df[column] = df[column].mask(df[column].isin(isin), other=np.nan)\n",
    "    \n",
    "    print('after missing values' + str(unknown_series.shape))\n",
    "    print('after missing values' + str(df.shape))\n",
    "    \n",
    "    # drop columns with higher than threshold % NaN\n",
    "    drop_columns = []\n",
    "    for column in columns_to_drop_missing:\n",
    "        if column not in to_drop_nonexistent:\n",
    "            drop_columns.append(column)\n",
    "            \n",
    "    df.drop(labels=drop_columns, axis=1, inplace=True)\n",
    "    \n",
    "    print('after drop lower threshold' + str(df.shape))\n",
    "    \n",
    "    #re-encoding\n",
    "    \n",
    "    cat_feat_df = [] \n",
    "    for cat_feat in categorical_features_attributes:\n",
    "        if cat_feat in df.columns:\n",
    "            cat_feat_df.append(cat_feat)\n",
    "    \n",
    "    mixed_feat_df = [] \n",
    "    for mixed_feat in mixed_features_attributes:\n",
    "        if mixed_feat in df.columns:\n",
    "            mixed_feat_df.append(mixed_feat)\n",
    "                   \n",
    "    binary_num_attributes = []\n",
    "    binary_non_num_attributes = []\n",
    "    multi_level_attributes = []\n",
    "\n",
    "    for attribute in cat_feat_df:\n",
    "        dtype = df[attribute].dtype\n",
    "        count = len(df[attribute].value_counts())\n",
    "\n",
    "        if count > 2:\n",
    "            multi_level_attributes.append(attribute)\n",
    "        else:\n",
    "            if dtype == 'object':\n",
    "                binary_non_num_attributes.append(attribute)\n",
    "            else:\n",
    "                binary_num_attributes.append(attribute)\n",
    "    \n",
    "    df['OST_WEST_KZ'] = df['OST_WEST_KZ'].map({'W': 1, 'O': 2})\n",
    "    \n",
    "    list_columns_to_add = []\n",
    "\n",
    "    for column in multi_level_attributes:\n",
    "        \n",
    "        if len(df[column].value_counts()) < 10:\n",
    "            list_columns_to_add.append(pd.get_dummies(df[column], prefix=column))\n",
    "    \n",
    "    \n",
    "    df.drop(multi_level_attributes, axis=1, inplace=True)\n",
    "\n",
    "    print('after drop multilevel' + str(df.shape))\n",
    "    \n",
    "    list_columns_to_add.append(df) \n",
    "\n",
    "    df = pd.concat(list_columns_to_add, axis=1)\n",
    "    \n",
    "    print('after adding cols to add' + str(df.shape))\n",
    "    \n",
    "    ### df mixed features re-encoding ###\n",
    "    \n",
    "    df['PRAEGENDE_JUGENDJAHRE'] = df['PRAEGENDE_JUGENDJAHRE'].apply(lambda x: encode_pj(x))\n",
    "    df.drop('PRAEGENDE_JUGENDJAHRE', axis=1, inplace=True)\n",
    "    \n",
    "    df.drop(['LP_LEBENSPHASE_FEIN', 'LP_LEBENSPHASE_GROB'], axis=1, inplace=True)\n",
    "    \n",
    "    df['WEALTH_LEVEL'] = df['CAMEO_INTL_2015'].apply(lambda x: np.floor(pd.to_numeric(x)/10))\n",
    "    df['STATUS'] = df['CAMEO_INTL_2015'].apply(lambda x: pd.to_numeric(x)%10)\n",
    "    df.drop('CAMEO_INTL_2015', axis=1, inplace=True)\n",
    "    \n",
    "    print('final' + str(df.shape))\n",
    "    \n",
    "    return df"
   ]
  },
  {
   "cell_type": "code",
   "execution_count": 101,
   "metadata": {},
   "outputs": [],
   "source": [
    "# plug in values\n",
    "not_described_features = to_drop_nonexistent\n",
    "\n",
    "missing_perct_column = mailout_train_balanced.isnull().mean(axis=0)\n",
    "\n",
    "columns_to_drop_missing = missing_perct_column[missing_perct_column > 0.2].index"
   ]
  },
  {
   "cell_type": "code",
   "execution_count": 102,
   "metadata": {},
   "outputs": [
    {
     "name": "stdout",
     "output_type": "stream",
     "text": [
      "after drop features not described(84860, 334)\n",
      "after missing values(334,)\n",
      "after missing values(84860, 334)\n",
      "after drop lower threshold(84860, 267)\n",
      "after drop multilevel(84860, 251)\n",
      "after adding cols to add(84860, 306)\n",
      "final(84860, 304)\n"
     ]
    }
   ],
   "source": [
    "# apply function\n",
    "train = cleaning_function(mailout_train_balanced, attributes, not_described_features, columns_to_drop_missing, nan_threshold=0.2)"
   ]
  },
  {
   "cell_type": "code",
   "execution_count": 103,
   "metadata": {},
   "outputs": [],
   "source": [
    "# Impute and Scale\n",
    "imputer = SimpleImputer(missing_values=np.nan, strategy='median')\n",
    "train_imputed = pd.DataFrame(imputer.fit_transform(train))  \n",
    "\n",
    "scaler = StandardScaler()\n",
    "train_imputed_scaled = pd.DataFrame(scaler.fit_transform(train_imputed))"
   ]
  },
  {
   "cell_type": "code",
   "execution_count": 104,
   "metadata": {},
   "outputs": [
    {
     "data": {
      "text/html": [
       "<div>\n",
       "<style scoped>\n",
       "    .dataframe tbody tr th:only-of-type {\n",
       "        vertical-align: middle;\n",
       "    }\n",
       "\n",
       "    .dataframe tbody tr th {\n",
       "        vertical-align: top;\n",
       "    }\n",
       "\n",
       "    .dataframe thead th {\n",
       "        text-align: right;\n",
       "    }\n",
       "</style>\n",
       "<table border=\"1\" class=\"dataframe\">\n",
       "  <thead>\n",
       "    <tr style=\"text-align: right;\">\n",
       "      <th></th>\n",
       "      <th>0</th>\n",
       "      <th>1</th>\n",
       "      <th>2</th>\n",
       "      <th>3</th>\n",
       "      <th>4</th>\n",
       "      <th>5</th>\n",
       "      <th>6</th>\n",
       "      <th>7</th>\n",
       "      <th>8</th>\n",
       "      <th>9</th>\n",
       "      <th>...</th>\n",
       "      <th>294</th>\n",
       "      <th>295</th>\n",
       "      <th>296</th>\n",
       "      <th>297</th>\n",
       "      <th>298</th>\n",
       "      <th>299</th>\n",
       "      <th>300</th>\n",
       "      <th>301</th>\n",
       "      <th>302</th>\n",
       "      <th>303</th>\n",
       "    </tr>\n",
       "  </thead>\n",
       "  <tbody>\n",
       "    <tr>\n",
       "      <th>0</th>\n",
       "      <td>-0.545612</td>\n",
       "      <td>1.520610</td>\n",
       "      <td>-0.251387</td>\n",
       "      <td>-0.461684</td>\n",
       "      <td>1.505401</td>\n",
       "      <td>-0.340877</td>\n",
       "      <td>-0.379683</td>\n",
       "      <td>-0.314341</td>\n",
       "      <td>-0.478781</td>\n",
       "      <td>-0.469908</td>\n",
       "      <td>...</td>\n",
       "      <td>-0.436067</td>\n",
       "      <td>-0.093728</td>\n",
       "      <td>-0.247522</td>\n",
       "      <td>1.198530</td>\n",
       "      <td>0.231422</td>\n",
       "      <td>-0.474137</td>\n",
       "      <td>0.852874</td>\n",
       "      <td>0.747642</td>\n",
       "      <td>0.081105</td>\n",
       "      <td>0.433009</td>\n",
       "    </tr>\n",
       "    <tr>\n",
       "      <th>1</th>\n",
       "      <td>1.832804</td>\n",
       "      <td>-0.657631</td>\n",
       "      <td>-0.251387</td>\n",
       "      <td>-0.461684</td>\n",
       "      <td>1.505401</td>\n",
       "      <td>-0.340877</td>\n",
       "      <td>-0.379683</td>\n",
       "      <td>-0.314341</td>\n",
       "      <td>-0.478781</td>\n",
       "      <td>2.128074</td>\n",
       "      <td>...</td>\n",
       "      <td>0.042079</td>\n",
       "      <td>-0.093728</td>\n",
       "      <td>-0.247522</td>\n",
       "      <td>-0.834355</td>\n",
       "      <td>0.231422</td>\n",
       "      <td>1.626729</td>\n",
       "      <td>0.852874</td>\n",
       "      <td>-0.212931</td>\n",
       "      <td>0.081105</td>\n",
       "      <td>-1.109707</td>\n",
       "    </tr>\n",
       "    <tr>\n",
       "      <th>2</th>\n",
       "      <td>1.832804</td>\n",
       "      <td>-0.657631</td>\n",
       "      <td>-0.251387</td>\n",
       "      <td>-0.461684</td>\n",
       "      <td>-0.664275</td>\n",
       "      <td>-0.340877</td>\n",
       "      <td>2.633776</td>\n",
       "      <td>-0.314341</td>\n",
       "      <td>-0.478781</td>\n",
       "      <td>-0.469908</td>\n",
       "      <td>...</td>\n",
       "      <td>1.476515</td>\n",
       "      <td>-0.093728</td>\n",
       "      <td>-0.247522</td>\n",
       "      <td>-0.834355</td>\n",
       "      <td>0.231422</td>\n",
       "      <td>-0.999353</td>\n",
       "      <td>-1.172505</td>\n",
       "      <td>0.747642</td>\n",
       "      <td>-1.441759</td>\n",
       "      <td>0.433009</td>\n",
       "    </tr>\n",
       "    <tr>\n",
       "      <th>3</th>\n",
       "      <td>-0.545612</td>\n",
       "      <td>1.520610</td>\n",
       "      <td>-0.251387</td>\n",
       "      <td>-0.461684</td>\n",
       "      <td>1.505401</td>\n",
       "      <td>-0.340877</td>\n",
       "      <td>-0.379683</td>\n",
       "      <td>-0.314341</td>\n",
       "      <td>-0.478781</td>\n",
       "      <td>-0.469908</td>\n",
       "      <td>...</td>\n",
       "      <td>-0.914212</td>\n",
       "      <td>-0.093728</td>\n",
       "      <td>-0.247522</td>\n",
       "      <td>1.198530</td>\n",
       "      <td>0.231422</td>\n",
       "      <td>-1.524570</td>\n",
       "      <td>0.852874</td>\n",
       "      <td>0.747642</td>\n",
       "      <td>-1.441759</td>\n",
       "      <td>0.433009</td>\n",
       "    </tr>\n",
       "    <tr>\n",
       "      <th>4</th>\n",
       "      <td>-0.545612</td>\n",
       "      <td>1.520610</td>\n",
       "      <td>-0.251387</td>\n",
       "      <td>-0.461684</td>\n",
       "      <td>-0.664275</td>\n",
       "      <td>-0.340877</td>\n",
       "      <td>-0.379683</td>\n",
       "      <td>-0.314341</td>\n",
       "      <td>2.088636</td>\n",
       "      <td>-0.469908</td>\n",
       "      <td>...</td>\n",
       "      <td>1.476515</td>\n",
       "      <td>-0.093728</td>\n",
       "      <td>-0.247522</td>\n",
       "      <td>-0.834355</td>\n",
       "      <td>0.231422</td>\n",
       "      <td>-0.474137</td>\n",
       "      <td>-1.172505</td>\n",
       "      <td>-0.212931</td>\n",
       "      <td>0.842537</td>\n",
       "      <td>-1.881064</td>\n",
       "    </tr>\n",
       "  </tbody>\n",
       "</table>\n",
       "<p>5 rows × 304 columns</p>\n",
       "</div>"
      ],
      "text/plain": [
       "        0         1         2         3         4         5         6    \\\n",
       "0 -0.545612  1.520610 -0.251387 -0.461684  1.505401 -0.340877 -0.379683   \n",
       "1  1.832804 -0.657631 -0.251387 -0.461684  1.505401 -0.340877 -0.379683   \n",
       "2  1.832804 -0.657631 -0.251387 -0.461684 -0.664275 -0.340877  2.633776   \n",
       "3 -0.545612  1.520610 -0.251387 -0.461684  1.505401 -0.340877 -0.379683   \n",
       "4 -0.545612  1.520610 -0.251387 -0.461684 -0.664275 -0.340877 -0.379683   \n",
       "\n",
       "        7         8         9    ...       294       295       296       297  \\\n",
       "0 -0.314341 -0.478781 -0.469908  ... -0.436067 -0.093728 -0.247522  1.198530   \n",
       "1 -0.314341 -0.478781  2.128074  ...  0.042079 -0.093728 -0.247522 -0.834355   \n",
       "2 -0.314341 -0.478781 -0.469908  ...  1.476515 -0.093728 -0.247522 -0.834355   \n",
       "3 -0.314341 -0.478781 -0.469908  ... -0.914212 -0.093728 -0.247522  1.198530   \n",
       "4 -0.314341  2.088636 -0.469908  ...  1.476515 -0.093728 -0.247522 -0.834355   \n",
       "\n",
       "        298       299       300       301       302       303  \n",
       "0  0.231422 -0.474137  0.852874  0.747642  0.081105  0.433009  \n",
       "1  0.231422  1.626729  0.852874 -0.212931  0.081105 -1.109707  \n",
       "2  0.231422 -0.999353 -1.172505  0.747642 -1.441759  0.433009  \n",
       "3  0.231422 -1.524570  0.852874  0.747642 -1.441759  0.433009  \n",
       "4  0.231422 -0.474137 -1.172505 -0.212931  0.842537 -1.881064  \n",
       "\n",
       "[5 rows x 304 columns]"
      ]
     },
     "execution_count": 104,
     "metadata": {},
     "output_type": "execute_result"
    }
   ],
   "source": [
    "train_imputed_scaled.head()"
   ]
  },
  {
   "cell_type": "markdown",
   "metadata": {},
   "source": [
    "### Grid Search on Classifier Algorithms"
   ]
  },
  {
   "cell_type": "markdown",
   "metadata": {},
   "source": [
    "First we set up a function to do grid search based on ROC and AUC metrics for the various algorithms we are going to try. \n",
    "\n",
    "The inputs to the function will be the classifier, parameter of the classifier to be used with the grid search, and features + labels from the train dataset. Additionally, we also implemented Stratified K-Fold cross-validation splitting strategy.\n",
    "\n",
    "The function will output the fitted classifier, while printing the time taken to train."
   ]
  },
  {
   "cell_type": "code",
   "execution_count": 105,
   "metadata": {},
   "outputs": [],
   "source": [
    "# training grid search function\n",
    "def gridsearch_classifier(classifier, param_grid, X_train, y_train):\n",
    "    # using StratifiedKFold\n",
    "    \n",
    "    start = time.time()\n",
    "    \n",
    "    grid = GridSearchCV(estimator=classifier, param_grid=param_grid, scoring='roc_auc', cv=5)\n",
    "    grid.fit(X_train, y_train)\n",
    "    \n",
    "    end = time.time()\n",
    "    print('/n')\n",
    "    print('Time Taken:' + str(end-start))\n",
    "    print(grid.best_score_)\n",
    "    return grid.best_estimator_"
   ]
  },
  {
   "cell_type": "markdown",
   "metadata": {},
   "source": [
    "#### 1. Benchmark Model - Logistic Regression"
   ]
  },
  {
   "cell_type": "markdown",
   "metadata": {},
   "source": [
    "Our benchmark model is the Logistic Regression classifier since this is the standard model with 1 as “converted into new customer” score and 0 as the “not converted into new customer” score."
   ]
  },
  {
   "cell_type": "code",
   "execution_count": 106,
   "metadata": {},
   "outputs": [
    {
     "name": "stdout",
     "output_type": "stream",
     "text": [
      "/n\n",
      "Time Taken:17.068783044815063\n",
      "0.8079572243568297\n",
      "LogisticRegression(random_state=101)\n"
     ]
    }
   ],
   "source": [
    "logistic = LogisticRegression(random_state=101)\n",
    "print(gridsearch_classifier(logistic, {}, train_imputed_scaled, train_y_label))"
   ]
  },
  {
   "cell_type": "markdown",
   "metadata": {},
   "source": [
    "> #### Logistic Regression: Time Taken: 17.1 seconds, AUC = 0.808"
   ]
  },
  {
   "cell_type": "markdown",
   "metadata": {},
   "source": [
    "#### 2. Potential Models\n",
    "Decision Tree Classifier <br>\n",
    "Random Forest Classifier <br>\n",
    "AdaBoost Classifier <br>\n",
    "Gradient Boosting Classifier <br>\n",
    "Multilayer Perceptron (Neural Network) Classifier <br>"
   ]
  },
  {
   "cell_type": "code",
   "execution_count": 107,
   "metadata": {},
   "outputs": [],
   "source": [
    "tree = DecisionTreeClassifier(random_state=101)\n",
    "rf = RandomForestClassifier(random_state=101)\n",
    "adaboost = AdaBoostClassifier(random_state=101)\n",
    "gbc = GradientBoostingClassifier(random_state=101)\n",
    "mlp_nn = MLPClassifier(random_state=101, alpha=1, max_iter=100)"
   ]
  },
  {
   "cell_type": "code",
   "execution_count": 108,
   "metadata": {},
   "outputs": [
    {
     "name": "stdout",
     "output_type": "stream",
     "text": [
      "/n\n",
      "Time Taken:56.231369972229004\n",
      "0.9846861787133946\n",
      "DecisionTreeClassifier(random_state=101)\n"
     ]
    }
   ],
   "source": [
    "print(gridsearch_classifier(tree, {}, train_imputed_scaled, train_y_label))"
   ]
  },
  {
   "cell_type": "code",
   "execution_count": 109,
   "metadata": {},
   "outputs": [
    {
     "name": "stdout",
     "output_type": "stream",
     "text": [
      "/n\n",
      "Time Taken:184.84636998176575\n",
      "0.9933737501908706\n",
      "RandomForestClassifier(random_state=101)\n"
     ]
    }
   ],
   "source": [
    "print(gridsearch_classifier(rf, {}, train_imputed_scaled, train_y_label))"
   ]
  },
  {
   "cell_type": "code",
   "execution_count": 110,
   "metadata": {},
   "outputs": [
    {
     "name": "stdout",
     "output_type": "stream",
     "text": [
      "/n\n",
      "Time Taken:133.06420803070068\n",
      "0.7859658744471563\n",
      "AdaBoostClassifier(random_state=101)\n"
     ]
    }
   ],
   "source": [
    "print(gridsearch_classifier(adaboost, {}, train_imputed_scaled, train_y_label))"
   ]
  },
  {
   "cell_type": "code",
   "execution_count": 111,
   "metadata": {},
   "outputs": [
    {
     "name": "stdout",
     "output_type": "stream",
     "text": [
      "/n\n",
      "Time Taken:607.3762629032135\n",
      "0.8886038998171919\n",
      "GradientBoostingClassifier(random_state=101)\n"
     ]
    }
   ],
   "source": [
    "print(gridsearch_classifier(gbc, {}, train_imputed_scaled, train_y_label))"
   ]
  },
  {
   "cell_type": "code",
   "execution_count": 112,
   "metadata": {},
   "outputs": [
    {
     "name": "stdout",
     "output_type": "stream",
     "text": [
      "/n\n",
      "Time Taken:637.5171508789062\n",
      "0.9903483737671325\n",
      "MLPClassifier(alpha=1, max_iter=100, random_state=101)\n"
     ]
    }
   ],
   "source": [
    "print(gridsearch_classifier(mlp_nn, {}, train_imputed_scaled, train_y_label))"
   ]
  },
  {
   "cell_type": "markdown",
   "metadata": {},
   "source": [
    "### Model Selection + Fine Tuning The 'Best' Model\n",
    "\n",
    "As seen from the results of the 9 different classifiers, Random Forest and Multilayer Perceptron (Neural Network) performed really well in terms of AUC but took longer than the others. Decision Tree performed only slightly worse than Random Forest, but took only about one-third of Random Forest's duration.\n",
    "\n",
    "The problem with the three classifiers mentioned above is that the scores are 'too good to be true' and thus might be caused by overfitting.\n",
    "\n",
    "Therefore, we choose the next best performing model despite the longer duration, which is the Gradient Boosting Classifier (GB), as the model that we will select and optimize further using GridSearchCV to fine-tune the hyperparameters."
   ]
  },
  {
   "cell_type": "code",
   "execution_count": 117,
   "metadata": {},
   "outputs": [
    {
     "name": "stdout",
     "output_type": "stream",
     "text": [
      "/n\n",
      "Time Taken:2269.597023010254\n",
      "0.9492743007031754\n"
     ]
    }
   ],
   "source": [
    "#Define the possible hyperparameters (loss type and max depth) for the GB\n",
    "param_grid = {'loss': ['deviance','log_loss', 'exponential'],\n",
    "              'max_depth': list(range(3,5))\n",
    "             }\n",
    "\n",
    "gbc_best_estimator = gridsearch_classifier(gbc, param_grid, train_imputed_scaled, train_y_label)"
   ]
  },
  {
   "cell_type": "code",
   "execution_count": 118,
   "metadata": {},
   "outputs": [
    {
     "data": {
      "text/plain": [
       "GradientBoostingClassifier(max_depth=4, random_state=101)"
      ]
     },
     "execution_count": 118,
     "metadata": {},
     "output_type": "execute_result"
    }
   ],
   "source": [
    "gbc_best_estimator"
   ]
  },
  {
   "cell_type": "markdown",
   "metadata": {},
   "source": [
    "### Comparison with Benchmark\n",
    "\n",
    "Our chosen trained GB model performed better in comparison to the benchmark (logistic regression), with a higher AUC of the ROC curve:\n",
    "\n",
    "0.949 > 0.808\n",
    "\n",
    "For the Kaggle Competition submission/test dataset, we will use the GB model with the tuned hyperparameters 'max_depth' of 4."
   ]
  },
  {
   "cell_type": "markdown",
   "metadata": {},
   "source": [
    "## Part 3: Kaggle Competition\n",
    "\n",
    "Now that you've created a model to predict which individuals are most likely to respond to a mailout campaign, it's time to test that model in competition through Kaggle. If you click on the link here, you'll be taken to the competition page where, if you have a Kaggle account, you can enter. If you're one of the top performers, you may have the chance to be contacted by a hiring manager from Arvato or Bertelsmann for an interview!\n",
    "\n",
    "Your entry to the competition should be a CSV file with two columns. The first column should be a copy of \"LNR\", which acts as an ID number for each individual in the \"TEST\" partition. The second column, \"RESPONSE\", should be some measure of how likely each individual became a customer – this might not be a straightforward probability. As you should have found in Part 2, there is a large output class imbalance, where most individuals did not respond to the mailout. Thus, predicting individual classes and using accuracy does not seem to be an appropriate performance evaluation method. Instead, the competition will be using AUC to evaluate performance. The exact values of the \"RESPONSE\" column do not matter as much: only that the higher values try to capture as many of the actual customers as possible, early in the ROC curve sweep.\n",
    "\n"
   ]
  },
  {
   "cell_type": "code",
   "execution_count": 133,
   "metadata": {},
   "outputs": [],
   "source": [
    "mailout_test = pd.read_csv('test.csv', index_col=0)"
   ]
  },
  {
   "cell_type": "code",
   "execution_count": 134,
   "metadata": {},
   "outputs": [
    {
     "data": {
      "text/html": [
       "<div>\n",
       "<style scoped>\n",
       "    .dataframe tbody tr th:only-of-type {\n",
       "        vertical-align: middle;\n",
       "    }\n",
       "\n",
       "    .dataframe tbody tr th {\n",
       "        vertical-align: top;\n",
       "    }\n",
       "\n",
       "    .dataframe thead th {\n",
       "        text-align: right;\n",
       "    }\n",
       "</style>\n",
       "<table border=\"1\" class=\"dataframe\">\n",
       "  <thead>\n",
       "    <tr style=\"text-align: right;\">\n",
       "      <th></th>\n",
       "      <th>LNR</th>\n",
       "      <th>AGER_TYP</th>\n",
       "      <th>AKT_DAT_KL</th>\n",
       "      <th>ALTER_HH</th>\n",
       "      <th>ALTER_KIND1</th>\n",
       "      <th>ALTER_KIND2</th>\n",
       "      <th>ALTER_KIND3</th>\n",
       "      <th>ALTER_KIND4</th>\n",
       "      <th>ALTERSKATEGORIE_FEIN</th>\n",
       "      <th>ANZ_HAUSHALTE_AKTIV</th>\n",
       "      <th>...</th>\n",
       "      <th>VHN</th>\n",
       "      <th>VK_DHT4A</th>\n",
       "      <th>VK_DISTANZ</th>\n",
       "      <th>VK_ZG11</th>\n",
       "      <th>W_KEIT_KIND_HH</th>\n",
       "      <th>WOHNDAUER_2008</th>\n",
       "      <th>WOHNLAGE</th>\n",
       "      <th>ZABEOTYP</th>\n",
       "      <th>ANREDE_KZ</th>\n",
       "      <th>ALTERSKATEGORIE_GROB</th>\n",
       "    </tr>\n",
       "  </thead>\n",
       "  <tbody>\n",
       "    <tr>\n",
       "      <th>0</th>\n",
       "      <td>1754</td>\n",
       "      <td>2</td>\n",
       "      <td>1.0</td>\n",
       "      <td>7.0</td>\n",
       "      <td>NaN</td>\n",
       "      <td>NaN</td>\n",
       "      <td>NaN</td>\n",
       "      <td>NaN</td>\n",
       "      <td>6.0</td>\n",
       "      <td>2.0</td>\n",
       "      <td>...</td>\n",
       "      <td>4.0</td>\n",
       "      <td>5.0</td>\n",
       "      <td>6.0</td>\n",
       "      <td>3.0</td>\n",
       "      <td>6.0</td>\n",
       "      <td>9.0</td>\n",
       "      <td>3.0</td>\n",
       "      <td>3</td>\n",
       "      <td>1</td>\n",
       "      <td>4</td>\n",
       "    </tr>\n",
       "    <tr>\n",
       "      <th>1</th>\n",
       "      <td>1770</td>\n",
       "      <td>-1</td>\n",
       "      <td>1.0</td>\n",
       "      <td>0.0</td>\n",
       "      <td>NaN</td>\n",
       "      <td>NaN</td>\n",
       "      <td>NaN</td>\n",
       "      <td>NaN</td>\n",
       "      <td>0.0</td>\n",
       "      <td>20.0</td>\n",
       "      <td>...</td>\n",
       "      <td>1.0</td>\n",
       "      <td>5.0</td>\n",
       "      <td>2.0</td>\n",
       "      <td>1.0</td>\n",
       "      <td>6.0</td>\n",
       "      <td>9.0</td>\n",
       "      <td>5.0</td>\n",
       "      <td>3</td>\n",
       "      <td>1</td>\n",
       "      <td>4</td>\n",
       "    </tr>\n",
       "    <tr>\n",
       "      <th>2</th>\n",
       "      <td>1465</td>\n",
       "      <td>2</td>\n",
       "      <td>9.0</td>\n",
       "      <td>16.0</td>\n",
       "      <td>NaN</td>\n",
       "      <td>NaN</td>\n",
       "      <td>NaN</td>\n",
       "      <td>NaN</td>\n",
       "      <td>11.0</td>\n",
       "      <td>2.0</td>\n",
       "      <td>...</td>\n",
       "      <td>3.0</td>\n",
       "      <td>9.0</td>\n",
       "      <td>6.0</td>\n",
       "      <td>3.0</td>\n",
       "      <td>2.0</td>\n",
       "      <td>9.0</td>\n",
       "      <td>4.0</td>\n",
       "      <td>3</td>\n",
       "      <td>2</td>\n",
       "      <td>4</td>\n",
       "    </tr>\n",
       "    <tr>\n",
       "      <th>3</th>\n",
       "      <td>1470</td>\n",
       "      <td>-1</td>\n",
       "      <td>7.0</td>\n",
       "      <td>0.0</td>\n",
       "      <td>NaN</td>\n",
       "      <td>NaN</td>\n",
       "      <td>NaN</td>\n",
       "      <td>NaN</td>\n",
       "      <td>0.0</td>\n",
       "      <td>1.0</td>\n",
       "      <td>...</td>\n",
       "      <td>2.0</td>\n",
       "      <td>6.0</td>\n",
       "      <td>6.0</td>\n",
       "      <td>3.0</td>\n",
       "      <td>NaN</td>\n",
       "      <td>9.0</td>\n",
       "      <td>2.0</td>\n",
       "      <td>3</td>\n",
       "      <td>2</td>\n",
       "      <td>4</td>\n",
       "    </tr>\n",
       "    <tr>\n",
       "      <th>4</th>\n",
       "      <td>1478</td>\n",
       "      <td>1</td>\n",
       "      <td>1.0</td>\n",
       "      <td>21.0</td>\n",
       "      <td>NaN</td>\n",
       "      <td>NaN</td>\n",
       "      <td>NaN</td>\n",
       "      <td>NaN</td>\n",
       "      <td>13.0</td>\n",
       "      <td>1.0</td>\n",
       "      <td>...</td>\n",
       "      <td>1.0</td>\n",
       "      <td>2.0</td>\n",
       "      <td>4.0</td>\n",
       "      <td>3.0</td>\n",
       "      <td>3.0</td>\n",
       "      <td>9.0</td>\n",
       "      <td>7.0</td>\n",
       "      <td>4</td>\n",
       "      <td>2</td>\n",
       "      <td>4</td>\n",
       "    </tr>\n",
       "  </tbody>\n",
       "</table>\n",
       "<p>5 rows × 366 columns</p>\n",
       "</div>"
      ],
      "text/plain": [
       "    LNR  AGER_TYP  AKT_DAT_KL  ALTER_HH  ALTER_KIND1  ALTER_KIND2  \\\n",
       "0  1754         2         1.0       7.0          NaN          NaN   \n",
       "1  1770        -1         1.0       0.0          NaN          NaN   \n",
       "2  1465         2         9.0      16.0          NaN          NaN   \n",
       "3  1470        -1         7.0       0.0          NaN          NaN   \n",
       "4  1478         1         1.0      21.0          NaN          NaN   \n",
       "\n",
       "   ALTER_KIND3  ALTER_KIND4  ALTERSKATEGORIE_FEIN  ANZ_HAUSHALTE_AKTIV  ...  \\\n",
       "0          NaN          NaN                   6.0                  2.0  ...   \n",
       "1          NaN          NaN                   0.0                 20.0  ...   \n",
       "2          NaN          NaN                  11.0                  2.0  ...   \n",
       "3          NaN          NaN                   0.0                  1.0  ...   \n",
       "4          NaN          NaN                  13.0                  1.0  ...   \n",
       "\n",
       "   VHN  VK_DHT4A  VK_DISTANZ  VK_ZG11  W_KEIT_KIND_HH  WOHNDAUER_2008  \\\n",
       "0  4.0       5.0         6.0      3.0             6.0             9.0   \n",
       "1  1.0       5.0         2.0      1.0             6.0             9.0   \n",
       "2  3.0       9.0         6.0      3.0             2.0             9.0   \n",
       "3  2.0       6.0         6.0      3.0             NaN             9.0   \n",
       "4  1.0       2.0         4.0      3.0             3.0             9.0   \n",
       "\n",
       "   WOHNLAGE ZABEOTYP ANREDE_KZ ALTERSKATEGORIE_GROB  \n",
       "0       3.0        3         1                    4  \n",
       "1       5.0        3         1                    4  \n",
       "2       4.0        3         2                    4  \n",
       "3       2.0        3         2                    4  \n",
       "4       7.0        4         2                    4  \n",
       "\n",
       "[5 rows x 366 columns]"
      ]
     },
     "execution_count": 134,
     "metadata": {},
     "output_type": "execute_result"
    }
   ],
   "source": [
    "mailout_test.head()"
   ]
  },
  {
   "cell_type": "code",
   "execution_count": 135,
   "metadata": {},
   "outputs": [
    {
     "data": {
      "text/plain": [
       "(42833, 366)"
      ]
     },
     "execution_count": 135,
     "metadata": {},
     "output_type": "execute_result"
    }
   ],
   "source": [
    "mailout_test.shape"
   ]
  },
  {
   "cell_type": "code",
   "execution_count": 136,
   "metadata": {},
   "outputs": [],
   "source": [
    "test_LNR = mailout_test['LNR']"
   ]
  },
  {
   "cell_type": "code",
   "execution_count": 137,
   "metadata": {},
   "outputs": [
    {
     "name": "stdout",
     "output_type": "stream",
     "text": [
      "after drop features not described(42833, 334)\n",
      "after missing values(334,)\n",
      "after missing values(42833, 334)\n",
      "after drop lower threshold(42833, 267)\n",
      "after drop multilevel(42833, 251)\n",
      "after adding cols to add(42833, 306)\n",
      "final(42833, 304)\n"
     ]
    }
   ],
   "source": [
    "# apply function for cleaning - use same parameters as train data in terms of columns to drop\n",
    "test = cleaning_function(mailout_test, \n",
    "                          attributes, \n",
    "                          not_described_features, \n",
    "                          columns_to_drop_missing, \n",
    "                          nan_threshold=0.2)"
   ]
  },
  {
   "cell_type": "code",
   "execution_count": 138,
   "metadata": {},
   "outputs": [
    {
     "data": {
      "text/html": [
       "<div>\n",
       "<style scoped>\n",
       "    .dataframe tbody tr th:only-of-type {\n",
       "        vertical-align: middle;\n",
       "    }\n",
       "\n",
       "    .dataframe tbody tr th {\n",
       "        vertical-align: top;\n",
       "    }\n",
       "\n",
       "    .dataframe thead th {\n",
       "        text-align: right;\n",
       "    }\n",
       "</style>\n",
       "<table border=\"1\" class=\"dataframe\">\n",
       "  <thead>\n",
       "    <tr style=\"text-align: right;\">\n",
       "      <th></th>\n",
       "      <th>AGER_TYP_1.0</th>\n",
       "      <th>AGER_TYP_2.0</th>\n",
       "      <th>AGER_TYP_3.0</th>\n",
       "      <th>CJT_GESAMTTYP_1.0</th>\n",
       "      <th>CJT_GESAMTTYP_2.0</th>\n",
       "      <th>CJT_GESAMTTYP_3.0</th>\n",
       "      <th>CJT_GESAMTTYP_4.0</th>\n",
       "      <th>CJT_GESAMTTYP_5.0</th>\n",
       "      <th>CJT_GESAMTTYP_6.0</th>\n",
       "      <th>D19_KONSUMTYP_1.0</th>\n",
       "      <th>...</th>\n",
       "      <th>SEMIO_VERT</th>\n",
       "      <th>SOHO_KZ</th>\n",
       "      <th>UNGLEICHENN_FLAG</th>\n",
       "      <th>VERS_TYP</th>\n",
       "      <th>WOHNDAUER_2008</th>\n",
       "      <th>WOHNLAGE</th>\n",
       "      <th>ANREDE_KZ</th>\n",
       "      <th>ALTERSKATEGORIE_GROB</th>\n",
       "      <th>WEALTH_LEVEL</th>\n",
       "      <th>STATUS</th>\n",
       "    </tr>\n",
       "  </thead>\n",
       "  <tbody>\n",
       "    <tr>\n",
       "      <th>0</th>\n",
       "      <td>0</td>\n",
       "      <td>1</td>\n",
       "      <td>0</td>\n",
       "      <td>0</td>\n",
       "      <td>0</td>\n",
       "      <td>0</td>\n",
       "      <td>0</td>\n",
       "      <td>1</td>\n",
       "      <td>0</td>\n",
       "      <td>0</td>\n",
       "      <td>...</td>\n",
       "      <td>7.0</td>\n",
       "      <td>0.0</td>\n",
       "      <td>0.0</td>\n",
       "      <td>1.0</td>\n",
       "      <td>9.0</td>\n",
       "      <td>3.0</td>\n",
       "      <td>1.0</td>\n",
       "      <td>4.0</td>\n",
       "      <td>1.0</td>\n",
       "      <td>3.0</td>\n",
       "    </tr>\n",
       "    <tr>\n",
       "      <th>1</th>\n",
       "      <td>0</td>\n",
       "      <td>0</td>\n",
       "      <td>0</td>\n",
       "      <td>1</td>\n",
       "      <td>0</td>\n",
       "      <td>0</td>\n",
       "      <td>0</td>\n",
       "      <td>0</td>\n",
       "      <td>0</td>\n",
       "      <td>0</td>\n",
       "      <td>...</td>\n",
       "      <td>6.0</td>\n",
       "      <td>0.0</td>\n",
       "      <td>0.0</td>\n",
       "      <td>1.0</td>\n",
       "      <td>9.0</td>\n",
       "      <td>5.0</td>\n",
       "      <td>1.0</td>\n",
       "      <td>4.0</td>\n",
       "      <td>3.0</td>\n",
       "      <td>1.0</td>\n",
       "    </tr>\n",
       "    <tr>\n",
       "      <th>2</th>\n",
       "      <td>0</td>\n",
       "      <td>1</td>\n",
       "      <td>0</td>\n",
       "      <td>0</td>\n",
       "      <td>1</td>\n",
       "      <td>0</td>\n",
       "      <td>0</td>\n",
       "      <td>0</td>\n",
       "      <td>0</td>\n",
       "      <td>0</td>\n",
       "      <td>...</td>\n",
       "      <td>3.0</td>\n",
       "      <td>0.0</td>\n",
       "      <td>1.0</td>\n",
       "      <td>1.0</td>\n",
       "      <td>9.0</td>\n",
       "      <td>4.0</td>\n",
       "      <td>2.0</td>\n",
       "      <td>4.0</td>\n",
       "      <td>4.0</td>\n",
       "      <td>1.0</td>\n",
       "    </tr>\n",
       "    <tr>\n",
       "      <th>3</th>\n",
       "      <td>0</td>\n",
       "      <td>0</td>\n",
       "      <td>0</td>\n",
       "      <td>0</td>\n",
       "      <td>0</td>\n",
       "      <td>0</td>\n",
       "      <td>1</td>\n",
       "      <td>0</td>\n",
       "      <td>0</td>\n",
       "      <td>0</td>\n",
       "      <td>...</td>\n",
       "      <td>2.0</td>\n",
       "      <td>0.0</td>\n",
       "      <td>0.0</td>\n",
       "      <td>2.0</td>\n",
       "      <td>9.0</td>\n",
       "      <td>2.0</td>\n",
       "      <td>2.0</td>\n",
       "      <td>4.0</td>\n",
       "      <td>1.0</td>\n",
       "      <td>3.0</td>\n",
       "    </tr>\n",
       "    <tr>\n",
       "      <th>4</th>\n",
       "      <td>1</td>\n",
       "      <td>0</td>\n",
       "      <td>0</td>\n",
       "      <td>0</td>\n",
       "      <td>0</td>\n",
       "      <td>0</td>\n",
       "      <td>0</td>\n",
       "      <td>0</td>\n",
       "      <td>1</td>\n",
       "      <td>1</td>\n",
       "      <td>...</td>\n",
       "      <td>3.0</td>\n",
       "      <td>0.0</td>\n",
       "      <td>0.0</td>\n",
       "      <td>1.0</td>\n",
       "      <td>9.0</td>\n",
       "      <td>7.0</td>\n",
       "      <td>2.0</td>\n",
       "      <td>4.0</td>\n",
       "      <td>3.0</td>\n",
       "      <td>1.0</td>\n",
       "    </tr>\n",
       "  </tbody>\n",
       "</table>\n",
       "<p>5 rows × 304 columns</p>\n",
       "</div>"
      ],
      "text/plain": [
       "   AGER_TYP_1.0  AGER_TYP_2.0  AGER_TYP_3.0  CJT_GESAMTTYP_1.0  \\\n",
       "0             0             1             0                  0   \n",
       "1             0             0             0                  1   \n",
       "2             0             1             0                  0   \n",
       "3             0             0             0                  0   \n",
       "4             1             0             0                  0   \n",
       "\n",
       "   CJT_GESAMTTYP_2.0  CJT_GESAMTTYP_3.0  CJT_GESAMTTYP_4.0  CJT_GESAMTTYP_5.0  \\\n",
       "0                  0                  0                  0                  1   \n",
       "1                  0                  0                  0                  0   \n",
       "2                  1                  0                  0                  0   \n",
       "3                  0                  0                  1                  0   \n",
       "4                  0                  0                  0                  0   \n",
       "\n",
       "   CJT_GESAMTTYP_6.0  D19_KONSUMTYP_1.0  ...  SEMIO_VERT  SOHO_KZ  \\\n",
       "0                  0                  0  ...         7.0      0.0   \n",
       "1                  0                  0  ...         6.0      0.0   \n",
       "2                  0                  0  ...         3.0      0.0   \n",
       "3                  0                  0  ...         2.0      0.0   \n",
       "4                  1                  1  ...         3.0      0.0   \n",
       "\n",
       "   UNGLEICHENN_FLAG  VERS_TYP  WOHNDAUER_2008  WOHNLAGE  ANREDE_KZ  \\\n",
       "0               0.0       1.0             9.0       3.0        1.0   \n",
       "1               0.0       1.0             9.0       5.0        1.0   \n",
       "2               1.0       1.0             9.0       4.0        2.0   \n",
       "3               0.0       2.0             9.0       2.0        2.0   \n",
       "4               0.0       1.0             9.0       7.0        2.0   \n",
       "\n",
       "   ALTERSKATEGORIE_GROB  WEALTH_LEVEL  STATUS  \n",
       "0                   4.0           1.0     3.0  \n",
       "1                   4.0           3.0     1.0  \n",
       "2                   4.0           4.0     1.0  \n",
       "3                   4.0           1.0     3.0  \n",
       "4                   4.0           3.0     1.0  \n",
       "\n",
       "[5 rows x 304 columns]"
      ]
     },
     "execution_count": 138,
     "metadata": {},
     "output_type": "execute_result"
    }
   ],
   "source": [
    "test.head()"
   ]
  },
  {
   "cell_type": "code",
   "execution_count": 139,
   "metadata": {},
   "outputs": [
    {
     "data": {
      "text/plain": [
       "(42833, 304)"
      ]
     },
     "execution_count": 139,
     "metadata": {},
     "output_type": "execute_result"
    }
   ],
   "source": [
    "test.shape"
   ]
  },
  {
   "cell_type": "code",
   "execution_count": 140,
   "metadata": {},
   "outputs": [],
   "source": [
    "# Impute and Scale\n",
    "imputer = SimpleImputer(missing_values=np.nan, strategy='median')\n",
    "test_imputed = pd.DataFrame(imputer.fit_transform(test))  \n",
    "\n",
    "scaler = StandardScaler()\n",
    "test_imputed_scaled = pd.DataFrame(scaler.fit_transform(test_imputed))"
   ]
  },
  {
   "cell_type": "markdown",
   "metadata": {},
   "source": [
    "### Classification with Chosen Model ()"
   ]
  },
  {
   "cell_type": "code",
   "execution_count": 143,
   "metadata": {},
   "outputs": [],
   "source": [
    "# Calculate prediction probabilities for the TEST set with previously trained GradientBoostingClassifier estimator\n",
    "test_gbc_preds = gbc_best_estimator.predict_proba(test_imputed_scaled)"
   ]
  },
  {
   "cell_type": "markdown",
   "metadata": {},
   "source": [
    "### CSV File for Kaggle Submission\n",
    "Columns: the LNR id column + prediction of response column"
   ]
  },
  {
   "cell_type": "code",
   "execution_count": 144,
   "metadata": {},
   "outputs": [
    {
     "data": {
      "text/html": [
       "<div>\n",
       "<style scoped>\n",
       "    .dataframe tbody tr th:only-of-type {\n",
       "        vertical-align: middle;\n",
       "    }\n",
       "\n",
       "    .dataframe tbody tr th {\n",
       "        vertical-align: top;\n",
       "    }\n",
       "\n",
       "    .dataframe thead th {\n",
       "        text-align: right;\n",
       "    }\n",
       "</style>\n",
       "<table border=\"1\" class=\"dataframe\">\n",
       "  <thead>\n",
       "    <tr style=\"text-align: right;\">\n",
       "      <th></th>\n",
       "      <th>LNR</th>\n",
       "      <th>RESPONSE</th>\n",
       "    </tr>\n",
       "  </thead>\n",
       "  <tbody>\n",
       "    <tr>\n",
       "      <th>0</th>\n",
       "      <td>1754</td>\n",
       "      <td>0.636801</td>\n",
       "    </tr>\n",
       "    <tr>\n",
       "      <th>1</th>\n",
       "      <td>1770</td>\n",
       "      <td>0.635613</td>\n",
       "    </tr>\n",
       "    <tr>\n",
       "      <th>2</th>\n",
       "      <td>1465</td>\n",
       "      <td>0.179187</td>\n",
       "    </tr>\n",
       "    <tr>\n",
       "      <th>3</th>\n",
       "      <td>1470</td>\n",
       "      <td>0.042028</td>\n",
       "    </tr>\n",
       "    <tr>\n",
       "      <th>4</th>\n",
       "      <td>1478</td>\n",
       "      <td>0.059016</td>\n",
       "    </tr>\n",
       "  </tbody>\n",
       "</table>\n",
       "</div>"
      ],
      "text/plain": [
       "    LNR  RESPONSE\n",
       "0  1754  0.636801\n",
       "1  1770  0.635613\n",
       "2  1465  0.179187\n",
       "3  1470  0.042028\n",
       "4  1478  0.059016"
      ]
     },
     "execution_count": 144,
     "metadata": {},
     "output_type": "execute_result"
    }
   ],
   "source": [
    "submission = pd.DataFrame({'LNR':test_LNR.astype(np.int32), 'RESPONSE':test_gbc_preds[:, 1]})\n",
    "submission.to_csv('submission.csv', index=False)\n",
    "submission.head()"
   ]
  },
  {
   "cell_type": "code",
   "execution_count": 145,
   "metadata": {},
   "outputs": [
    {
     "data": {
      "text/plain": [
       "6133"
      ]
     },
     "execution_count": 145,
     "metadata": {},
     "output_type": "execute_result"
    }
   ],
   "source": [
    "len(submission[submission['RESPONSE']>0.5])"
   ]
  },
  {
   "cell_type": "markdown",
   "metadata": {},
   "source": [
    "Out of 42,833 individuals (rows in the test dataset), 6,133 individuals seems likely to become a customer (predicted individual probability to join is greater than 0.5). This 6,133 is approximately 14.2% of the total test individuals."
   ]
  }
 ],
 "metadata": {
  "kernelspec": {
   "display_name": "Python 3",
   "language": "python",
   "name": "python3"
  }
 },
 "nbformat": 4,
 "nbformat_minor": 2
}
